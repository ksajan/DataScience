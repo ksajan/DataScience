{
 "cells": [
  {
   "cell_type": "code",
   "execution_count": 1,
   "metadata": {},
   "outputs": [
    {
     "data": {
      "application/javascript": [
       "IPython.notebook.set_autosave_interval(3600000)"
      ]
     },
     "metadata": {},
     "output_type": "display_data"
    },
    {
     "name": "stdout",
     "output_type": "stream",
     "text": [
      "Autosaving every 3600 seconds\n"
     ]
    }
   ],
   "source": [
    "%autosave 3600"
   ]
  },
  {
   "cell_type": "code",
   "execution_count": 2,
   "metadata": {
    "collapsed": true
   },
   "outputs": [],
   "source": [
    "# HIDDEN\n",
    "from datascience import *\n",
    "%matplotlib inline\n",
    "import matplotlib.pyplot as plots\n",
    "plots.style.use('fivethirtyeight')\n",
    "import numpy as np"
   ]
  },
  {
   "cell_type": "markdown",
   "metadata": {},
   "source": [
    "## Lecture 23 ##"
   ]
  },
  {
   "cell_type": "markdown",
   "metadata": {},
   "source": [
    "### Percentiles"
   ]
  },
  {
   "cell_type": "code",
   "execution_count": 3,
   "metadata": {},
   "outputs": [
    {
     "data": {
      "text/plain": [
       "array([ 7, 20, 28, 34, 43, 51])"
      ]
     },
     "execution_count": 3,
     "metadata": {},
     "output_type": "execute_result"
    }
   ],
   "source": [
    "x = make_array(43, 20, 51, 7, 28, 34)\n",
    "y = np.sort(x)\n",
    "y"
   ]
  },
  {
   "cell_type": "code",
   "execution_count": 4,
   "metadata": {},
   "outputs": [
    {
     "data": {
      "text/plain": [
       "3.3000000000000003"
      ]
     },
     "execution_count": 4,
     "metadata": {},
     "output_type": "execute_result"
    }
   ],
   "source": [
    "0.55 * 6"
   ]
  },
  {
   "cell_type": "code",
   "execution_count": 5,
   "metadata": {},
   "outputs": [
    {
     "data": {
      "text/plain": [
       "34"
      ]
     },
     "execution_count": 5,
     "metadata": {},
     "output_type": "execute_result"
    }
   ],
   "source": [
    "percentile(55, x)"
   ]
  },
  {
   "cell_type": "code",
   "execution_count": null,
   "metadata": {
    "collapsed": true
   },
   "outputs": [],
   "source": []
  },
  {
   "cell_type": "code",
   "execution_count": null,
   "metadata": {
    "collapsed": true
   },
   "outputs": [],
   "source": []
  },
  {
   "cell_type": "code",
   "execution_count": null,
   "metadata": {
    "collapsed": true
   },
   "outputs": [],
   "source": []
  },
  {
   "cell_type": "code",
   "execution_count": null,
   "metadata": {
    "collapsed": true
   },
   "outputs": [],
   "source": []
  },
  {
   "cell_type": "markdown",
   "metadata": {},
   "source": [
    "### Bootstrap"
   ]
  },
  {
   "cell_type": "code",
   "execution_count": 6,
   "metadata": {},
   "outputs": [
    {
     "data": {
      "text/html": [
       "<table border=\"1\" class=\"dataframe\">\n",
       "    <thead>\n",
       "        <tr>\n",
       "            <th>Year Type</th> <th>Year</th> <th>Organization Group Code</th> <th>Organization Group</th> <th>Department Code</th> <th>Department</th> <th>Union Code</th> <th>Union</th> <th>Job Family Code</th> <th>Job Family</th> <th>Job Code</th> <th>Job</th> <th>Employee Identifier</th> <th>Salaries</th> <th>Overtime</th> <th>Other Salaries</th> <th>Total Salary</th> <th>Retirement</th> <th>Health/Dental</th> <th>Other Benefits</th> <th>Total Benefits</th> <th>Total Compensation</th>\n",
       "        </tr>\n",
       "    </thead>\n",
       "    <tbody>\n",
       "        <tr>\n",
       "            <td>Calendar </td> <td>2015</td> <td>2                      </td> <td>Public Works, Transportation & Commerce </td> <td>WTR            </td> <td>PUC Water Department                  </td> <td>21        </td> <td>Prof & Tech Engineers - Miscellaneous, Local 21   </td> <td>2400           </td> <td>Lab, Pharmacy & Med Techs    </td> <td>2481    </td> <td>Water Qualitytech I/II        </td> <td>21538              </td> <td>82146   </td> <td>0       </td> <td>0             </td> <td>82146       </td> <td>16942.2   </td> <td>12340.9      </td> <td>6337.73       </td> <td>35620.8       </td> <td>117767            </td>\n",
       "        </tr>\n",
       "        <tr>\n",
       "            <td>Calendar </td> <td>2015</td> <td>2                      </td> <td>Public Works, Transportation & Commerce </td> <td>DPW            </td> <td>General Services Agency - Public Works</td> <td>12        </td> <td>Carpet, Linoleum and Soft Tile Workers, Local 12  </td> <td>7300           </td> <td>Journeyman Trade             </td> <td>7393    </td> <td>Soft Floor Coverer            </td> <td>5459               </td> <td>32165.8 </td> <td>973.19  </td> <td>848.96        </td> <td>33987.9     </td> <td>0         </td> <td>4587.51      </td> <td>2634.42       </td> <td>7221.93       </td> <td>41209.8           </td>\n",
       "        </tr>\n",
       "        <tr>\n",
       "            <td>Calendar </td> <td>2015</td> <td>4                      </td> <td>Community Health                        </td> <td>DPH            </td> <td>Public Health                         </td> <td>790       </td> <td>SEIU - Miscellaneous, Local 1021                  </td> <td>1600           </td> <td>Payroll, Billing & Accounting</td> <td>1636    </td> <td>Health Care Billing Clerk 2   </td> <td>41541              </td> <td>71311   </td> <td>5757.98 </td> <td>0             </td> <td>77069       </td> <td>14697.6   </td> <td>12424.5      </td> <td>6370.06       </td> <td>33492.2       </td> <td>110561            </td>\n",
       "        </tr>\n",
       "        <tr>\n",
       "            <td>Calendar </td> <td>2015</td> <td>4                      </td> <td>Community Health                        </td> <td>DPH            </td> <td>Public Health                         </td> <td>351       </td> <td>Municipal Executive Association - Miscellaneous   </td> <td>0900           </td> <td>Management                   </td> <td>2620    </td> <td>Food Service Mgr Administrator</td> <td>26718              </td> <td>28430.2 </td> <td>0       </td> <td>763.07        </td> <td>29193.3     </td> <td>0         </td> <td>4223.14      </td> <td>5208.51       </td> <td>9431.65       </td> <td>38625             </td>\n",
       "        </tr>\n",
       "        <tr>\n",
       "            <td>Calendar </td> <td>2015</td> <td>2                      </td> <td>Public Works, Transportation & Commerce </td> <td>MTA            </td> <td>Municipal Transportation Agency       </td> <td>790       </td> <td>SEIU - Miscellaneous, Local 1021                  </td> <td>8200           </td> <td>Protection & Apprehension    </td> <td>8201    </td> <td>School Crossing Guard         </td> <td>45810              </td> <td>7948.75 </td> <td>0       </td> <td>0             </td> <td>7948.75     </td> <td>0         </td> <td>2873.17      </td> <td>616.24        </td> <td>3489.41       </td> <td>11438.2           </td>\n",
       "        </tr>\n",
       "        <tr>\n",
       "            <td>Calendar </td> <td>2015</td> <td>1                      </td> <td>Public Protection                       </td> <td>POL            </td> <td>Police                                </td> <td>911       </td> <td>Police Officers' Association                      </td> <td>Q000           </td> <td>Police Services              </td> <td>Q002    </td> <td>Police Officer                </td> <td>32906              </td> <td>2235    </td> <td>0       </td> <td>0             </td> <td>2235        </td> <td>490.36    </td> <td>286.72       </td> <td>176.57        </td> <td>953.65        </td> <td>3188.65           </td>\n",
       "        </tr>\n",
       "        <tr>\n",
       "            <td>Calendar </td> <td>2015</td> <td>4                      </td> <td>Community Health                        </td> <td>DPH            </td> <td>Public Health                         </td> <td>791       </td> <td>SEIU - Staff and Per Diem Nurses, Local 1021      </td> <td>2300           </td> <td>Nursing                      </td> <td>2328    </td> <td>Nurse Practitioner            </td> <td>7506               </td> <td>187247  </td> <td>0       </td> <td>11704.1       </td> <td>198951      </td> <td>37683.7   </td> <td>12424.5      </td> <td>11221.7       </td> <td>61329.9       </td> <td>260281            </td>\n",
       "        </tr>\n",
       "        <tr>\n",
       "            <td>Calendar </td> <td>2015</td> <td>2                      </td> <td>Public Works, Transportation & Commerce </td> <td>MTA            </td> <td>Municipal Transportation Agency       </td> <td>253       </td> <td>Transport Workers - Transit Operators, Local 250-A</td> <td>9100           </td> <td>Street Transit               </td> <td>9163    </td> <td>Transit Operator              </td> <td>36773              </td> <td>66988.5 </td> <td>3512.88 </td> <td>2770.39       </td> <td>73271.8     </td> <td>19127.2   </td> <td>13203        </td> <td>5455.1        </td> <td>37785.3       </td> <td>111057            </td>\n",
       "        </tr>\n",
       "        <tr>\n",
       "            <td>Calendar </td> <td>2015</td> <td>6                      </td> <td>General Administration & Finance        </td> <td>CAT            </td> <td>City Attorney                         </td> <td>311       </td> <td>Municipal Attorneys' Association                  </td> <td>8100           </td> <td>Legal & Court                </td> <td>8177    </td> <td>Attorney (Civil/Criminal)     </td> <td>12963              </td> <td>135190  </td> <td>0       </td> <td>1562.5        </td> <td>136752      </td> <td>27501.8   </td> <td>12424.5      </td> <td>10103         </td> <td>50029.3       </td> <td>186781            </td>\n",
       "        </tr>\n",
       "        <tr>\n",
       "            <td>Calendar </td> <td>2015</td> <td>3                      </td> <td>Human Welfare & Neighborhood Development</td> <td>DSS            </td> <td>Human Services                        </td> <td>535       </td> <td>SEIU - Human Services, Local 1021                 </td> <td>9700           </td> <td>Community Development        </td> <td>9703    </td> <td>Emp & Training Spec 2         </td> <td>35179              </td> <td>70474.8 </td> <td>147.28  </td> <td>1647.24       </td> <td>72269.3     </td> <td>14650.3   </td> <td>10696.9      </td> <td>5993.11       </td> <td>31340.3       </td> <td>103610            </td>\n",
       "        </tr>\n",
       "    </tbody>\n",
       "</table>\n",
       "<p>... (42979 rows omitted)</p>"
      ],
      "text/plain": [
       "Year Type | Year | Organization Group Code | Organization Group                       | Department Code | Department                             | Union Code | Union                                              | Job Family Code | Job Family                    | Job Code | Job                            | Employee Identifier | Salaries | Overtime | Other Salaries | Total Salary | Retirement | Health/Dental | Other Benefits | Total Benefits | Total Compensation\n",
       "Calendar  | 2015 | 2                       | Public Works, Transportation & Commerce  | WTR             | PUC Water Department                   | 21         | Prof & Tech Engineers - Miscellaneous, Local 21    | 2400            | Lab, Pharmacy & Med Techs     | 2481     | Water Qualitytech I/II         | 21538               | 82146    | 0        | 0              | 82146        | 16942.2    | 12340.9       | 6337.73        | 35620.8        | 117767\n",
       "Calendar  | 2015 | 2                       | Public Works, Transportation & Commerce  | DPW             | General Services Agency - Public Works | 12         | Carpet, Linoleum and Soft Tile Workers, Local 12   | 7300            | Journeyman Trade              | 7393     | Soft Floor Coverer             | 5459                | 32165.8  | 973.19   | 848.96         | 33987.9      | 0          | 4587.51       | 2634.42        | 7221.93        | 41209.8\n",
       "Calendar  | 2015 | 4                       | Community Health                         | DPH             | Public Health                          | 790        | SEIU - Miscellaneous, Local 1021                   | 1600            | Payroll, Billing & Accounting | 1636     | Health Care Billing Clerk 2    | 41541               | 71311    | 5757.98  | 0              | 77069        | 14697.6    | 12424.5       | 6370.06        | 33492.2        | 110561\n",
       "Calendar  | 2015 | 4                       | Community Health                         | DPH             | Public Health                          | 351        | Municipal Executive Association - Miscellaneous    | 0900            | Management                    | 2620     | Food Service Mgr Administrator | 26718               | 28430.2  | 0        | 763.07         | 29193.3      | 0          | 4223.14       | 5208.51        | 9431.65        | 38625\n",
       "Calendar  | 2015 | 2                       | Public Works, Transportation & Commerce  | MTA             | Municipal Transportation Agency        | 790        | SEIU - Miscellaneous, Local 1021                   | 8200            | Protection & Apprehension     | 8201     | School Crossing Guard          | 45810               | 7948.75  | 0        | 0              | 7948.75      | 0          | 2873.17       | 616.24         | 3489.41        | 11438.2\n",
       "Calendar  | 2015 | 1                       | Public Protection                        | POL             | Police                                 | 911        | Police Officers' Association                       | Q000            | Police Services               | Q002     | Police Officer                 | 32906               | 2235     | 0        | 0              | 2235         | 490.36     | 286.72        | 176.57         | 953.65         | 3188.65\n",
       "Calendar  | 2015 | 4                       | Community Health                         | DPH             | Public Health                          | 791        | SEIU - Staff and Per Diem Nurses, Local 1021       | 2300            | Nursing                       | 2328     | Nurse Practitioner             | 7506                | 187247   | 0        | 11704.1        | 198951       | 37683.7    | 12424.5       | 11221.7        | 61329.9        | 260281\n",
       "Calendar  | 2015 | 2                       | Public Works, Transportation & Commerce  | MTA             | Municipal Transportation Agency        | 253        | Transport Workers - Transit Operators, Local 250-A | 9100            | Street Transit                | 9163     | Transit Operator               | 36773               | 66988.5  | 3512.88  | 2770.39        | 73271.8      | 19127.2    | 13203         | 5455.1         | 37785.3        | 111057\n",
       "Calendar  | 2015 | 6                       | General Administration & Finance         | CAT             | City Attorney                          | 311        | Municipal Attorneys' Association                   | 8100            | Legal & Court                 | 8177     | Attorney (Civil/Criminal)      | 12963               | 135190   | 0        | 1562.5         | 136752       | 27501.8    | 12424.5       | 10103          | 50029.3        | 186781\n",
       "Calendar  | 2015 | 3                       | Human Welfare & Neighborhood Development | DSS             | Human Services                         | 535        | SEIU - Human Services, Local 1021                  | 9700            | Community Development         | 9703     | Emp & Training Spec 2          | 35179               | 70474.8  | 147.28   | 1647.24        | 72269.3      | 14650.3    | 10696.9       | 5993.11        | 31340.3        | 103610\n",
       "... (42979 rows omitted)"
      ]
     },
     "execution_count": 6,
     "metadata": {},
     "output_type": "execute_result"
    }
   ],
   "source": [
    "sf = Table.read_table('san_francisco_2015.csv')\n",
    "sf"
   ]
  },
  {
   "cell_type": "code",
   "execution_count": 7,
   "metadata": {},
   "outputs": [
    {
     "data": {
      "text/html": [
       "<table border=\"1\" class=\"dataframe\">\n",
       "    <thead>\n",
       "        <tr>\n",
       "            <th>Year Type</th> <th>Year</th> <th>Organization Group Code</th> <th>Organization Group</th> <th>Department Code</th> <th>Department</th> <th>Union Code</th> <th>Union</th> <th>Job Family Code</th> <th>Job Family</th> <th>Job Code</th> <th>Job</th> <th>Employee Identifier</th> <th>Salaries</th> <th>Overtime</th> <th>Other Salaries</th> <th>Total Salary</th> <th>Retirement</th> <th>Health/Dental</th> <th>Other Benefits</th> <th>Total Benefits</th> <th>Total Compensation</th>\n",
       "        </tr>\n",
       "    </thead>\n",
       "    <tbody>\n",
       "        <tr>\n",
       "            <td>Calendar </td> <td>2015</td> <td>6                      </td> <td>General Administration & Finance</td> <td>MYR            </td> <td>Mayor     </td> <td>556       </td> <td>Elected Officials</td> <td>1100           </td> <td>Administrative & Mgmt (Unrep)</td> <td>1190    </td> <td>Mayor</td> <td>22433              </td> <td>288964  </td> <td>0       </td> <td>0             </td> <td>288964      </td> <td>58117     </td> <td>12424.5      </td> <td>20293         </td> <td>90834.5       </td> <td>379798            </td>\n",
       "        </tr>\n",
       "    </tbody>\n",
       "</table>"
      ],
      "text/plain": [
       "Year Type | Year | Organization Group Code | Organization Group               | Department Code | Department | Union Code | Union             | Job Family Code | Job Family                    | Job Code | Job   | Employee Identifier | Salaries | Overtime | Other Salaries | Total Salary | Retirement | Health/Dental | Other Benefits | Total Benefits | Total Compensation\n",
       "Calendar  | 2015 | 6                       | General Administration & Finance | MYR             | Mayor      | 556        | Elected Officials | 1100            | Administrative & Mgmt (Unrep) | 1190     | Mayor | 22433               | 288964   | 0        | 0              | 288964       | 58117      | 12424.5       | 20293          | 90834.5        | 379798"
      ]
     },
     "execution_count": 7,
     "metadata": {},
     "output_type": "execute_result"
    }
   ],
   "source": [
    "sf.where('Job', 'Mayor')"
   ]
  },
  {
   "cell_type": "code",
   "execution_count": 8,
   "metadata": {},
   "outputs": [
    {
     "data": {
      "text/html": [
       "<table border=\"1\" class=\"dataframe\">\n",
       "    <thead>\n",
       "        <tr>\n",
       "            <th>Year Type</th> <th>Year</th> <th>Organization Group Code</th> <th>Organization Group</th> <th>Department Code</th> <th>Department</th> <th>Union Code</th> <th>Union</th> <th>Job Family Code</th> <th>Job Family</th> <th>Job Code</th> <th>Job</th> <th>Employee Identifier</th> <th>Salaries</th> <th>Overtime</th> <th>Other Salaries</th> <th>Total Salary</th> <th>Retirement</th> <th>Health/Dental</th> <th>Other Benefits</th> <th>Total Benefits</th> <th>Total Compensation</th>\n",
       "        </tr>\n",
       "    </thead>\n",
       "    <tbody>\n",
       "        <tr>\n",
       "            <td>Calendar </td> <td>2015</td> <td>6                      </td> <td>General Administration & Finance       </td> <td>RET            </td> <td>Retirement System                   </td> <td>351       </td> <td>Municipal Executive Association - Miscellaneous</td> <td>1100           </td> <td>Administrative & Mgmt (Unrep)</td> <td>1119    </td> <td>Chief Investment Officer</td> <td>46881              </td> <td>507832  </td> <td>0       </td> <td>0             </td> <td>507832      </td> <td>105053    </td> <td>12424.5      </td> <td>23566.2       </td> <td>141044        </td> <td>648875            </td>\n",
       "        </tr>\n",
       "        <tr>\n",
       "            <td>Calendar </td> <td>2015</td> <td>6                      </td> <td>General Administration & Finance       </td> <td>ADM            </td> <td>General Services Agency - City Admin</td> <td>164       </td> <td>Physicians and Dentists - Miscellaneous        </td> <td>2500           </td> <td>Med Therapy & Auxiliary      </td> <td>2598    </td> <td>Asst Med Examiner       </td> <td>1016               </td> <td>279311  </td> <td>3829.36 </td> <td>114434        </td> <td>397574      </td> <td>56211.6   </td> <td>12424.5      </td> <td>14299.1       </td> <td>82935.2       </td> <td>480509            </td>\n",
       "        </tr>\n",
       "        <tr>\n",
       "            <td>Calendar </td> <td>2015</td> <td>6                      </td> <td>General Administration & Finance       </td> <td>ADM            </td> <td>General Services Agency - City Admin</td> <td>164       </td> <td>Physicians and Dentists - Miscellaneous        </td> <td>2500           </td> <td>Med Therapy & Auxiliary      </td> <td>2598    </td> <td>Asst Med Examiner       </td> <td>13746              </td> <td>279311  </td> <td>9046.92 </td> <td>56742.6       </td> <td>345101      </td> <td>56211.6   </td> <td>12424.5      </td> <td>13482.7       </td> <td>82118.8       </td> <td>427219            </td>\n",
       "        </tr>\n",
       "        <tr>\n",
       "            <td>Calendar </td> <td>2015</td> <td>2                      </td> <td>Public Works, Transportation & Commerce</td> <td>AIR            </td> <td>Airport Commission                  </td> <td>351       </td> <td>Municipal Executive Association - Miscellaneous</td> <td>0900           </td> <td>Management                   </td> <td>0965    </td> <td>Dept Head V             </td> <td>17356              </td> <td>326764  </td> <td>0       </td> <td>0             </td> <td>326764      </td> <td>65806.3   </td> <td>12424.5      </td> <td>21691.2       </td> <td>99922.1       </td> <td>426686            </td>\n",
       "        </tr>\n",
       "        <tr>\n",
       "            <td>Calendar </td> <td>2015</td> <td>4                      </td> <td>Community Health                       </td> <td>DPH            </td> <td>Public Health                       </td> <td>351       </td> <td>Municipal Executive Association - Miscellaneous</td> <td>0900           </td> <td>Management                   </td> <td>1164    </td> <td>Adm, SFGH Medical Center</td> <td>1523               </td> <td>256098  </td> <td>0       </td> <td>82292.3       </td> <td>338390      </td> <td>51977.5   </td> <td>11468.8      </td> <td>20963.3       </td> <td>84409.6       </td> <td>422800            </td>\n",
       "        </tr>\n",
       "    </tbody>\n",
       "</table>\n",
       "<p>... (42984 rows omitted)</p>"
      ],
      "text/plain": [
       "<IPython.core.display.HTML object>"
      ]
     },
     "metadata": {},
     "output_type": "display_data"
    }
   ],
   "source": [
    "sf.sort('Total Compensation', descending=True).show(5)"
   ]
  },
  {
   "cell_type": "code",
   "execution_count": 9,
   "metadata": {},
   "outputs": [
    {
     "data": {
      "text/html": [
       "<table border=\"1\" class=\"dataframe\">\n",
       "    <thead>\n",
       "        <tr>\n",
       "            <th>Year Type</th> <th>Year</th> <th>Organization Group Code</th> <th>Organization Group</th> <th>Department Code</th> <th>Department</th> <th>Union Code</th> <th>Union</th> <th>Job Family Code</th> <th>Job Family</th> <th>Job Code</th> <th>Job</th> <th>Employee Identifier</th> <th>Salaries</th> <th>Overtime</th> <th>Other Salaries</th> <th>Total Salary</th> <th>Retirement</th> <th>Health/Dental</th> <th>Other Benefits</th> <th>Total Benefits</th> <th>Total Compensation</th>\n",
       "        </tr>\n",
       "    </thead>\n",
       "    <tbody>\n",
       "        <tr>\n",
       "            <td>Calendar </td> <td>2015</td> <td>1                      </td> <td>Public Protection               </td> <td>FIR            </td> <td>Fire Department   </td> <td>798       </td> <td>Firefighters - Miscellaneous, Local 798        </td> <td>H000           </td> <td>Fire Services           </td> <td>H002    </td> <td>Firefighter               </td> <td>43833              </td> <td>0       </td> <td>0       </td> <td>0             </td> <td>0           </td> <td>0         </td> <td>0            </td> <td>-423.76       </td> <td>-423.76       </td> <td>-423.76           </td>\n",
       "        </tr>\n",
       "        <tr>\n",
       "            <td>Calendar </td> <td>2015</td> <td>4                      </td> <td>Community Health                </td> <td>DPH            </td> <td>Public Health     </td> <td>790       </td> <td>SEIU - Miscellaneous, Local 1021               </td> <td>9900           </td> <td>Public Service Aide     </td> <td>9924    </td> <td>PS Aide Health Services   </td> <td>27871              </td> <td>-292.4  </td> <td>0       </td> <td>0             </td> <td>-292.4      </td> <td>0         </td> <td>-95.58       </td> <td>-22.63        </td> <td>-118.21       </td> <td>-410.61           </td>\n",
       "        </tr>\n",
       "        <tr>\n",
       "            <td>Calendar </td> <td>2015</td> <td>1                      </td> <td>Public Protection               </td> <td>JUV            </td> <td>Juvenile Probation</td> <td>790       </td> <td>SEIU - Miscellaneous, Local 1021               </td> <td>8300           </td> <td>Correction & Detention  </td> <td>8320    </td> <td>Counselor, Juvenile Hall  </td> <td>10517              </td> <td>0       </td> <td>0       </td> <td>0             </td> <td>0           </td> <td>0         </td> <td>0            </td> <td>-159.12       </td> <td>-159.12       </td> <td>-159.12           </td>\n",
       "        </tr>\n",
       "        <tr>\n",
       "            <td>Calendar </td> <td>2015</td> <td>6                      </td> <td>General Administration & Finance</td> <td>CPC            </td> <td>City Planning     </td> <td>21        </td> <td>Prof & Tech Engineers - Miscellaneous, Local 21</td> <td>1000           </td> <td>Information Systems     </td> <td>1053    </td> <td>IS Business Analyst-Senior</td> <td>18961              </td> <td>0       </td> <td>0       </td> <td>0             </td> <td>0           </td> <td>0         </td> <td>0            </td> <td>-26.53        </td> <td>-26.53        </td> <td>-26.53            </td>\n",
       "        </tr>\n",
       "        <tr>\n",
       "            <td>Calendar </td> <td>2015</td> <td>6                      </td> <td>General Administration & Finance</td> <td>CPC            </td> <td>City Planning     </td> <td>21        </td> <td>Prof & Tech Engineers - Miscellaneous, Local 21</td> <td>5200           </td> <td>Professional Engineering</td> <td>5277    </td> <td>Planner 1                 </td> <td>19387              </td> <td>0       </td> <td>0       </td> <td>0             </td> <td>0           </td> <td>0         </td> <td>0            </td> <td>-9.51         </td> <td>-9.51         </td> <td>-9.51             </td>\n",
       "        </tr>\n",
       "    </tbody>\n",
       "</table>\n",
       "<p>... (42984 rows omitted)</p>"
      ],
      "text/plain": [
       "<IPython.core.display.HTML object>"
      ]
     },
     "metadata": {},
     "output_type": "display_data"
    }
   ],
   "source": [
    "sf.sort('Total Compensation', descending=False).show(5)"
   ]
  },
  {
   "cell_type": "code",
   "execution_count": 10,
   "metadata": {},
   "outputs": [
    {
     "data": {
      "text/plain": [
       "10400"
      ]
     },
     "execution_count": 10,
     "metadata": {},
     "output_type": "execute_result"
    }
   ],
   "source": [
    "10 * 20 * 52"
   ]
  },
  {
   "cell_type": "code",
   "execution_count": 11,
   "metadata": {
    "collapsed": true
   },
   "outputs": [],
   "source": [
    "sf = sf.where('Total Compensation', are.above(10000))"
   ]
  },
  {
   "cell_type": "code",
   "execution_count": 12,
   "metadata": {},
   "outputs": [
    {
     "data": {
      "text/plain": [
       "38217"
      ]
     },
     "execution_count": 12,
     "metadata": {},
     "output_type": "execute_result"
    }
   ],
   "source": [
    "sf.num_rows"
   ]
  },
  {
   "cell_type": "code",
   "execution_count": 13,
   "metadata": {},
   "outputs": [
    {
     "data": {
      "text/plain": [
       "107219.48"
      ]
     },
     "execution_count": 13,
     "metadata": {},
     "output_type": "execute_result"
    }
   ],
   "source": [
    "percentile(50, sf.column('Total Compensation'))"
   ]
  },
  {
   "cell_type": "code",
   "execution_count": 15,
   "metadata": {},
   "outputs": [
    {
     "data": {
      "text/html": [
       "<table border=\"1\" class=\"dataframe\">\n",
       "    <thead>\n",
       "        <tr>\n",
       "            <th>Year Type</th> <th>Year</th> <th>Organization Group Code</th> <th>Organization Group</th> <th>Department Code</th> <th>Department</th> <th>Union Code</th> <th>Union</th> <th>Job Family Code</th> <th>Job Family</th> <th>Job Code</th> <th>Job</th> <th>Employee Identifier</th> <th>Salaries</th> <th>Overtime</th> <th>Other Salaries</th> <th>Total Salary</th> <th>Retirement</th> <th>Health/Dental</th> <th>Other Benefits</th> <th>Total Benefits</th> <th>Total Compensation</th>\n",
       "        </tr>\n",
       "    </thead>\n",
       "    <tbody>\n",
       "        <tr>\n",
       "            <td>Calendar </td> <td>2015</td> <td>2                      </td> <td>Public Works, Transportation & Commerce </td> <td>ECN            </td> <td>Economic and Workforce Development</td> <td>790       </td> <td>SEIU - Miscellaneous, Local 1021             </td> <td>9700           </td> <td>Community Development       </td> <td>9774    </td> <td>Sr Community Devl Spc 1       </td> <td>52653              </td> <td>49477   </td> <td>0       </td> <td>0             </td> <td>49477       </td> <td>9434.53   </td> <td>6690.11      </td> <td>3741.12       </td> <td>19865.8       </td> <td>69342.8           </td>\n",
       "        </tr>\n",
       "        <tr>\n",
       "            <td>Calendar </td> <td>2015</td> <td>2                      </td> <td>Public Works, Transportation & Commerce </td> <td>AIR            </td> <td>Airport Commission                </td> <td>6         </td> <td>Electrical Workers, Local 6                  </td> <td>7500           </td> <td>Semi-Skilled & General Labor</td> <td>7510    </td> <td>Lighting Fixture Maint Worker </td> <td>52901              </td> <td>47030.2 </td> <td>4848.09 </td> <td>836           </td> <td>52714.3     </td> <td>11435.6   </td> <td>12137.8      </td> <td>4233.69       </td> <td>27807.1       </td> <td>80521.4           </td>\n",
       "        </tr>\n",
       "        <tr>\n",
       "            <td>Calendar </td> <td>2015</td> <td>4                      </td> <td>Community Health                        </td> <td>DPH            </td> <td>Public Health                     </td> <td>791       </td> <td>SEIU - Staff and Per Diem Nurses, Local 1021 </td> <td>2300           </td> <td>Nursing                     </td> <td>2320    </td> <td>Registered Nurse              </td> <td>5453               </td> <td>60726.7 </td> <td>486.07  </td> <td>1098.56       </td> <td>62311.3     </td> <td>11539.7   </td> <td>6217.03      </td> <td>4309.8        </td> <td>22066.5       </td> <td>84377.8           </td>\n",
       "        </tr>\n",
       "        <tr>\n",
       "            <td>Calendar </td> <td>2015</td> <td>5                      </td> <td>Culture & Recreation                    </td> <td>REC            </td> <td>Recreation and Park Commission    </td> <td>790       </td> <td>SEIU - Miscellaneous, Local 1021             </td> <td>3200           </td> <td>Recreation                  </td> <td>3286    </td> <td>Recreation Coordinator        </td> <td>50200              </td> <td>12071.3 </td> <td>0       </td> <td>0             </td> <td>12071.3     </td> <td>0         </td> <td>2906.02      </td> <td>936.31        </td> <td>3842.33       </td> <td>15913.6           </td>\n",
       "        </tr>\n",
       "        <tr>\n",
       "            <td>Calendar </td> <td>2015</td> <td>1                      </td> <td>Public Protection                       </td> <td>SHF            </td> <td>Sheriff                           </td> <td>498       </td> <td>Deputy Sheriffs' Association                 </td> <td>8300           </td> <td>Correction & Detention      </td> <td>8304    </td> <td>Deputy Sheriff                </td> <td>36107              </td> <td>97762.6 </td> <td>761.4   </td> <td>17283.1       </td> <td>115807      </td> <td>27255.8   </td> <td>12424.5      </td> <td>1925.09       </td> <td>41605.4       </td> <td>157412            </td>\n",
       "        </tr>\n",
       "        <tr>\n",
       "            <td>Calendar </td> <td>2015</td> <td>3                      </td> <td>Human Welfare & Neighborhood Development</td> <td>DSS            </td> <td>Human Services                    </td> <td>22        </td> <td>Prof & Tech Engineers - Personnel, Local 21  </td> <td>1200           </td> <td>Personnel                   </td> <td>1241    </td> <td>Personnel Analyst             </td> <td>31049              </td> <td>11200.5 </td> <td>0       </td> <td>0             </td> <td>11200.5     </td> <td>2512.27   </td> <td>1911.46      </td> <td>875.17        </td> <td>5298.9        </td> <td>16499.4           </td>\n",
       "        </tr>\n",
       "        <tr>\n",
       "            <td>Calendar </td> <td>2015</td> <td>2                      </td> <td>Public Works, Transportation & Commerce </td> <td>WTR            </td> <td>PUC Water Department              </td> <td>261       </td> <td>Laborers, Local 261                          </td> <td>3400           </td> <td>Agriculture & Horticulture  </td> <td>3436    </td> <td>Arborist Technician Supervisor</td> <td>9998               </td> <td>91653   </td> <td>4883.07 </td> <td>1680.75       </td> <td>98216.8     </td> <td>19235.8   </td> <td>12424.5      </td> <td>7829.75       </td> <td>39490         </td> <td>137707            </td>\n",
       "        </tr>\n",
       "        <tr>\n",
       "            <td>Calendar </td> <td>2015</td> <td>2                      </td> <td>Public Works, Transportation & Commerce </td> <td>DBI            </td> <td>Department of Building Inspection </td> <td>930       </td> <td>Building Inspectors' Association - Inspectors</td> <td>6300           </td> <td>Construction Inspection     </td> <td>6331    </td> <td>Building Inspector            </td> <td>34792              </td> <td>109045  </td> <td>6329.35 </td> <td>1367.22       </td> <td>116742      </td> <td>22696.6   </td> <td>12424.5      </td> <td>9184.03       </td> <td>44305.2       </td> <td>161047            </td>\n",
       "        </tr>\n",
       "        <tr>\n",
       "            <td>Calendar </td> <td>2015</td> <td>2                      </td> <td>Public Works, Transportation & Commerce </td> <td>AIR            </td> <td>Airport Commission                </td> <td>104       </td> <td>Sheet Metal Workers, Local 104               </td> <td>7300           </td> <td>Journeyman Trade            </td> <td>7376    </td> <td>Sheet Metal Worker            </td> <td>36771              </td> <td>101323  </td> <td>890.18  </td> <td>1520          </td> <td>103733      </td> <td>21202     </td> <td>12424.5      </td> <td>8386.27       </td> <td>42012.8       </td> <td>145746            </td>\n",
       "        </tr>\n",
       "        <tr>\n",
       "            <td>Calendar </td> <td>2015</td> <td>3                      </td> <td>Human Welfare & Neighborhood Development</td> <td>CSS            </td> <td>Child Support Services            </td> <td>790       </td> <td>SEIU - Miscellaneous, Local 1021             </td> <td>8100           </td> <td>Legal & Court               </td> <td>8158    </td> <td>Child Support Officer II      </td> <td>50818              </td> <td>78204   </td> <td>0       </td> <td>1624          </td> <td>79828       </td> <td>16451.2   </td> <td>12424.5      </td> <td>6221.17       </td> <td>35096.8       </td> <td>114925            </td>\n",
       "        </tr>\n",
       "    </tbody>\n",
       "</table>\n",
       "<p>... (290 rows omitted)</p>"
      ],
      "text/plain": [
       "Year Type | Year | Organization Group Code | Organization Group                       | Department Code | Department                         | Union Code | Union                                         | Job Family Code | Job Family                   | Job Code | Job                            | Employee Identifier | Salaries | Overtime | Other Salaries | Total Salary | Retirement | Health/Dental | Other Benefits | Total Benefits | Total Compensation\n",
       "Calendar  | 2015 | 2                       | Public Works, Transportation & Commerce  | ECN             | Economic and Workforce Development | 790        | SEIU - Miscellaneous, Local 1021              | 9700            | Community Development        | 9774     | Sr Community Devl Spc 1        | 52653               | 49477    | 0        | 0              | 49477        | 9434.53    | 6690.11       | 3741.12        | 19865.8        | 69342.8\n",
       "Calendar  | 2015 | 2                       | Public Works, Transportation & Commerce  | AIR             | Airport Commission                 | 6          | Electrical Workers, Local 6                   | 7500            | Semi-Skilled & General Labor | 7510     | Lighting Fixture Maint Worker  | 52901               | 47030.2  | 4848.09  | 836            | 52714.3      | 11435.6    | 12137.8       | 4233.69        | 27807.1        | 80521.4\n",
       "Calendar  | 2015 | 4                       | Community Health                         | DPH             | Public Health                      | 791        | SEIU - Staff and Per Diem Nurses, Local 1021  | 2300            | Nursing                      | 2320     | Registered Nurse               | 5453                | 60726.7  | 486.07   | 1098.56        | 62311.3      | 11539.7    | 6217.03       | 4309.8         | 22066.5        | 84377.8\n",
       "Calendar  | 2015 | 5                       | Culture & Recreation                     | REC             | Recreation and Park Commission     | 790        | SEIU - Miscellaneous, Local 1021              | 3200            | Recreation                   | 3286     | Recreation Coordinator         | 50200               | 12071.3  | 0        | 0              | 12071.3      | 0          | 2906.02       | 936.31         | 3842.33        | 15913.6\n",
       "Calendar  | 2015 | 1                       | Public Protection                        | SHF             | Sheriff                            | 498        | Deputy Sheriffs' Association                  | 8300            | Correction & Detention       | 8304     | Deputy Sheriff                 | 36107               | 97762.6  | 761.4    | 17283.1        | 115807       | 27255.8    | 12424.5       | 1925.09        | 41605.4        | 157412\n",
       "Calendar  | 2015 | 3                       | Human Welfare & Neighborhood Development | DSS             | Human Services                     | 22         | Prof & Tech Engineers - Personnel, Local 21   | 1200            | Personnel                    | 1241     | Personnel Analyst              | 31049               | 11200.5  | 0        | 0              | 11200.5      | 2512.27    | 1911.46       | 875.17         | 5298.9         | 16499.4\n",
       "Calendar  | 2015 | 2                       | Public Works, Transportation & Commerce  | WTR             | PUC Water Department               | 261        | Laborers, Local 261                           | 3400            | Agriculture & Horticulture   | 3436     | Arborist Technician Supervisor | 9998                | 91653    | 4883.07  | 1680.75        | 98216.8      | 19235.8    | 12424.5       | 7829.75        | 39490          | 137707\n",
       "Calendar  | 2015 | 2                       | Public Works, Transportation & Commerce  | DBI             | Department of Building Inspection  | 930        | Building Inspectors' Association - Inspectors | 6300            | Construction Inspection      | 6331     | Building Inspector             | 34792               | 109045   | 6329.35  | 1367.22        | 116742       | 22696.6    | 12424.5       | 9184.03        | 44305.2        | 161047\n",
       "Calendar  | 2015 | 2                       | Public Works, Transportation & Commerce  | AIR             | Airport Commission                 | 104        | Sheet Metal Workers, Local 104                | 7300            | Journeyman Trade             | 7376     | Sheet Metal Worker             | 36771               | 101323   | 890.18   | 1520           | 103733       | 21202      | 12424.5       | 8386.27        | 42012.8        | 145746\n",
       "Calendar  | 2015 | 3                       | Human Welfare & Neighborhood Development | CSS             | Child Support Services             | 790        | SEIU - Miscellaneous, Local 1021              | 8100            | Legal & Court                | 8158     | Child Support Officer II       | 50818               | 78204    | 0        | 1624           | 79828        | 16451.2    | 12424.5       | 6221.17        | 35096.8        | 114925\n",
       "... (290 rows omitted)"
      ]
     },
     "execution_count": 15,
     "metadata": {},
     "output_type": "execute_result"
    }
   ],
   "source": [
    "our_sample = sf.sample(300, with_replacement=False)\n",
    "our_sample"
   ]
  },
  {
   "cell_type": "code",
   "execution_count": 16,
   "metadata": {},
   "outputs": [
    {
     "data": {
      "text/plain": [
       "108521.64999999999"
      ]
     },
     "execution_count": 16,
     "metadata": {},
     "output_type": "execute_result"
    }
   ],
   "source": [
    "percentile(50, our_sample.column('Total Compensation'))"
   ]
  },
  {
   "cell_type": "code",
   "execution_count": 17,
   "metadata": {},
   "outputs": [
    {
     "data": {
      "image/png": "[encoded data removed]",
      "text/plain": [
       "<Figure size 432x288 with 1 Axes>"
      ]
     },
     "metadata": {},
     "output_type": "display_data"
    }
   ],
   "source": [
    "sf_bins = np.arange(0, 700000, 25000)\n",
    "sf.hist('Total Compensation', bins=sf_bins)"
   ]
  },
  {
   "cell_type": "code",
   "execution_count": 18,
   "metadata": {},
   "outputs": [
    {
     "data": {
      "image/png": "[encoded data removed]",
      "text/plain": [
       "<Figure size 432x288 with 1 Axes>"
      ]
     },
     "metadata": {},
     "output_type": "display_data"
    }
   ],
   "source": [
    "our_sample.hist('Total Compensation', bins=sf_bins)"
   ]
  },
  {
   "cell_type": "code",
   "execution_count": 21,
   "metadata": {
    "collapsed": true
   },
   "outputs": [],
   "source": [
    "resample1 = our_sample.sample(300, with_replacement=True)"
   ]
  },
  {
   "cell_type": "code",
   "execution_count": 22,
   "metadata": {},
   "outputs": [
    {
     "data": {
      "image/png": "[encoded data removed]",
      "text/plain": [
       "<Figure size 432x288 with 1 Axes>"
      ]
     },
     "metadata": {},
     "output_type": "display_data"
    }
   ],
   "source": [
    "resample1.hist('Total Compensation', bins=sf_bins)"
   ]
  },
  {
   "cell_type": "code",
   "execution_count": 23,
   "metadata": {
    "collapsed": true
   },
   "outputs": [],
   "source": [
    "resample2 = our_sample.sample()"
   ]
  },
  {
   "cell_type": "code",
   "execution_count": 24,
   "metadata": {},
   "outputs": [
    {
     "data": {
      "text/plain": [
       "112891.42999999999"
      ]
     },
     "execution_count": 24,
     "metadata": {},
     "output_type": "execute_result"
    }
   ],
   "source": [
    "percentile(50, resample1.column('Total Compensation'))"
   ]
  },
  {
   "cell_type": "code",
   "execution_count": 25,
   "metadata": {},
   "outputs": [
    {
     "data": {
      "text/plain": [
       "110789.35000000001"
      ]
     },
     "execution_count": 25,
     "metadata": {},
     "output_type": "execute_result"
    }
   ],
   "source": [
    "percentile(50, resample2.column('Total Compensation'))"
   ]
  },
  {
   "cell_type": "code",
   "execution_count": 26,
   "metadata": {
    "collapsed": true
   },
   "outputs": [],
   "source": [
    "medians = make_array()\n",
    "\n",
    "for i in np.arange(1000):\n",
    "    resampled = our_sample.sample()\n",
    "    median = percentile(50, resampled.column('Total Compensation'))\n",
    "    medians = np.append(medians, median)"
   ]
  },
  {
   "cell_type": "code",
   "execution_count": null,
   "metadata": {
    "collapsed": true
   },
   "outputs": [],
   "source": []
  },
  {
   "cell_type": "code",
   "execution_count": null,
   "metadata": {
    "collapsed": true
   },
   "outputs": [],
   "source": []
  },
  {
   "cell_type": "code",
   "execution_count": null,
   "metadata": {
    "collapsed": true
   },
   "outputs": [],
   "source": []
  },
  {
   "cell_type": "code",
   "execution_count": null,
   "metadata": {
    "collapsed": true
   },
   "outputs": [],
   "source": []
  },
  {
   "cell_type": "code",
   "execution_count": 28,
   "metadata": {
    "collapsed": true
   },
   "outputs": [],
   "source": [
    "def bootstrap_median(original_sample, label, replications):\n",
    "    \"\"\"Simulate sample median:\n",
    "    original_sample: table containing the original sample\n",
    "    label: label of column containing the variable\n",
    "    replications: number of bootstrap samples\n",
    "    Returns array of bootstrap sample medians\n",
    "    \"\"\"\n",
    "    medians = make_array()\n",
    "    for i in np.arange(replications):\n",
    "        bootstrap_sample = original_sample.sample()\n",
    "        resampled_median = percentile(50, bootstrap_sample.column(label))\n",
    "        medians = np.append(medians, resampled_median)\n",
    "        \n",
    "    return medians"
   ]
  },
  {
   "cell_type": "code",
   "execution_count": 29,
   "metadata": {
    "collapsed": true
   },
   "outputs": [],
   "source": [
    "bstrap_medians = bootstrap_median(our_sample, 'Total Compensation', 1000)"
   ]
  },
  {
   "cell_type": "code",
   "execution_count": 31,
   "metadata": {
    "collapsed": true
   },
   "outputs": [],
   "source": [
    "pop_median = percentile(50, sf.column('Total Compensation'))"
   ]
  },
  {
   "cell_type": "code",
   "execution_count": 32,
   "metadata": {},
   "outputs": [
    {
     "data": {
      "image/png": "[encoded data removed]",
      "text/plain": [
       "<Figure size 432x288 with 1 Axes>"
      ]
     },
     "metadata": {},
     "output_type": "display_data"
    }
   ],
   "source": [
    "resampled_medians = Table().with_column(\n",
    "    'Bootstrap Sample Median', bstrap_medians)\n",
    "\n",
    "resampled_medians.hist()\n",
    "\n",
    "plots.scatter(pop_median, 0, color='red', s=40);"
   ]
  },
  {
   "cell_type": "code",
   "execution_count": 34,
   "metadata": {},
   "outputs": [
    {
     "data": {
      "text/plain": [
       "99032.600000000006"
      ]
     },
     "execution_count": 34,
     "metadata": {},
     "output_type": "execute_result"
    }
   ],
   "source": [
    "left = percentile(2.5, bstrap_medians)\n",
    "left"
   ]
  },
  {
   "cell_type": "code",
   "execution_count": 36,
   "metadata": {},
   "outputs": [
    {
     "data": {
      "text/plain": [
       "112965.14999999999"
      ]
     },
     "execution_count": 36,
     "metadata": {},
     "output_type": "execute_result"
    }
   ],
   "source": [
    "right = percentile(97.5, bstrap_medians)\n",
    "right"
   ]
  },
  {
   "cell_type": "code",
   "execution_count": null,
   "metadata": {
    "collapsed": true
   },
   "outputs": [],
   "source": []
  },
  {
   "cell_type": "code",
   "execution_count": 37,
   "metadata": {},
   "outputs": [
    {
     "data": {
      "image/png": "[encoded data removed]",
      "text/plain": [
       "<Figure size 432x288 with 1 Axes>"
      ]
     },
     "metadata": {},
     "output_type": "display_data"
    }
   ],
   "source": [
    "resampled_medians.hist()\n",
    "\n",
    "plots.plot([left, right], [0, 0], color='yellow', lw=3, zorder=1)\n",
    "plots.scatter(pop_median, 0, color='red', s=30, zorder=2);"
   ]
  },
  {
   "cell_type": "code",
   "execution_count": 38,
   "metadata": {},
   "outputs": [
    {
     "data": {
      "text/plain": [
       "array([  99032.6 ,  112965.15])"
      ]
     },
     "execution_count": 38,
     "metadata": {},
     "output_type": "execute_result"
    }
   ],
   "source": [
    "confidence_interval = make_array(left, right)\n",
    "confidence_interval"
   ]
  },
  {
   "cell_type": "code",
   "execution_count": null,
   "metadata": {
    "collapsed": true
   },
   "outputs": [],
   "source": [
    "# THE BIG SIMULATION: This one takes a long time.\n",
    "\n",
    "# Generate the endpoints of 50 intervals\n",
    "\n",
    "left_ends = make_array()\n",
    "right_ends = make_array()\n",
    "\n",
    "for i in np.arange(50):\n",
    "    first_sample = sf.sample(300, with_replacement=False)\n",
    "    medians = bootstrap_median(first_sample, 'Total Compensation', 2000)\n",
    "    left_ends = np.append(left_ends, percentile(2.5, medians))\n",
    "    right_ends = np.append(right_ends, percentile(97.5, medians))"
   ]
  },
  {
   "cell_type": "code",
   "execution_count": null,
   "metadata": {
    "collapsed": true
   },
   "outputs": [],
   "source": [
    "intervals = Table().with_column(\n",
    "    'Left', left_ends,\n",
    "    'Right', right_ends\n",
    ")    "
   ]
  },
  {
   "cell_type": "code",
   "execution_count": null,
   "metadata": {
    "collapsed": true
   },
   "outputs": [],
   "source": [
    "intervals"
   ]
  },
  {
   "cell_type": "code",
   "execution_count": null,
   "metadata": {
    "collapsed": true
   },
   "outputs": [],
   "source": [
    "good = intervals.where('Left', are.below(pop_median)).where('Right', are.above(pop_median)).num_rows"
   ]
  },
  {
   "cell_type": "code",
   "execution_count": null,
   "metadata": {
    "collapsed": true
   },
   "outputs": [],
   "source": [
    "good / 50"
   ]
  }
 ],
 "metadata": {
  "anaconda-cloud": {},
  "kernelspec": {
   "display_name": "Python 3",
   "language": "python",
   "name": "python3"
  },
  "language_info": {
   "codemirror_mode": {
    "name": "ipython",
    "version": 3
   },
   "file_extension": ".py",
   "mimetype": "text/x-python",
   "name": "python",
   "nbconvert_exporter": "python",
   "pygments_lexer": "ipython3",
   "version": "3.6.3"
  }
 },
 "nbformat": 4,
 "nbformat_minor": 1
}
