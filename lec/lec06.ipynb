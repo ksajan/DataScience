{
 "cells": [
  {
   "cell_type": "code",
   "execution_count": 1,
   "metadata": {},
   "outputs": [],
   "source": [
    "from datascience import *\n",
    "import numpy as np\n",
    "\n",
    "%matplotlib inline\n",
    "import matplotlib.pyplot as plots\n",
    "plots.style.use('fivethirtyeight')"
   ]
  },
  {
   "cell_type": "markdown",
   "metadata": {},
   "source": [
    "## Lecture 6"
   ]
  },
  {
   "cell_type": "code",
   "execution_count": 2,
   "metadata": {},
   "outputs": [],
   "source": [
    "streets = make_array('Bancroft', 'Durant', 'Channing', 'Haste')"
   ]
  },
  {
   "cell_type": "code",
   "execution_count": 3,
   "metadata": {},
   "outputs": [],
   "source": [
    "southside = Table().with_column(\n",
    "    'Street', streets,\n",
    "    'Blocks from Campus', np.arange(4)\n",
    ")"
   ]
  },
  {
   "cell_type": "code",
   "execution_count": 4,
   "metadata": {},
   "outputs": [
    {
     "data": {
      "text/plain": [
       "datascience.tables.Row"
      ]
     },
     "execution_count": 4,
     "metadata": {},
     "output_type": "execute_result"
    }
   ],
   "source": [
    "type(southside.row(0))"
   ]
  },
  {
   "cell_type": "code",
   "execution_count": 5,
   "metadata": {},
   "outputs": [],
   "source": [
    "southside = southside.with_row(['Dwight', 4])"
   ]
  },
  {
   "cell_type": "code",
   "execution_count": 6,
   "metadata": {},
   "outputs": [
    {
     "data": {
      "text/html": [
       "<table border=\"1\" class=\"dataframe\">\n",
       "    <thead>\n",
       "        <tr>\n",
       "            <th>Street</th> <th>Blocks from Campus</th> <th>One-Way</th>\n",
       "        </tr>\n",
       "    </thead>\n",
       "    <tbody>\n",
       "        <tr>\n",
       "            <td>Bancroft</td> <td>0                 </td> <td>Yes    </td>\n",
       "        </tr>\n",
       "        <tr>\n",
       "            <td>Durant  </td> <td>1                 </td> <td>Yes    </td>\n",
       "        </tr>\n",
       "        <tr>\n",
       "            <td>Channing</td> <td>2                 </td> <td>No     </td>\n",
       "        </tr>\n",
       "        <tr>\n",
       "            <td>Haste   </td> <td>3                 </td> <td>Yes    </td>\n",
       "        </tr>\n",
       "        <tr>\n",
       "            <td>Dwight  </td> <td>4                 </td> <td>Yes    </td>\n",
       "        </tr>\n",
       "    </tbody>\n",
       "</table>"
      ],
      "text/plain": [
       "Street   | Blocks from Campus | One-Way\n",
       "Bancroft | 0                  | Yes\n",
       "Durant   | 1                  | Yes\n",
       "Channing | 2                  | No\n",
       "Haste    | 3                  | Yes\n",
       "Dwight   | 4                  | Yes"
      ]
     },
     "execution_count": 6,
     "metadata": {},
     "output_type": "execute_result"
    }
   ],
   "source": [
    "southside = southside.with_column('One-Way', ['Yes', 'Yes', 'No', 'Yes', 'Yes'])\n",
    "southside"
   ]
  },
  {
   "cell_type": "code",
   "execution_count": 7,
   "metadata": {},
   "outputs": [
    {
     "data": {
      "text/plain": [
       "array(['Yes', 'Yes', 'No', 'Yes', 'Yes'],\n",
       "      dtype='<U3')"
      ]
     },
     "execution_count": 7,
     "metadata": {},
     "output_type": "execute_result"
    }
   ],
   "source": [
    "southside.column('One-Way')"
   ]
  },
  {
   "cell_type": "markdown",
   "metadata": {},
   "source": [
    "## Discussion"
   ]
  },
  {
   "cell_type": "code",
   "execution_count": 8,
   "metadata": {},
   "outputs": [
    {
     "data": {
      "text/html": [
       "<table border=\"1\" class=\"dataframe\">\n",
       "    <thead>\n",
       "        <tr>\n",
       "            <th>PLAYER</th> <th>POSITION</th> <th>TEAM</th> <th>'15-'16 SALARY</th>\n",
       "        </tr>\n",
       "    </thead>\n",
       "    <tbody>\n",
       "        <tr>\n",
       "            <td>Paul Millsap    </td> <td>PF      </td> <td>Atlanta Hawks</td> <td>18.6717       </td>\n",
       "        </tr>\n",
       "        <tr>\n",
       "            <td>Al Horford      </td> <td>C       </td> <td>Atlanta Hawks</td> <td>12            </td>\n",
       "        </tr>\n",
       "        <tr>\n",
       "            <td>Tiago Splitter  </td> <td>C       </td> <td>Atlanta Hawks</td> <td>9.75625       </td>\n",
       "        </tr>\n",
       "        <tr>\n",
       "            <td>Jeff Teague     </td> <td>PG      </td> <td>Atlanta Hawks</td> <td>8             </td>\n",
       "        </tr>\n",
       "        <tr>\n",
       "            <td>Kyle Korver     </td> <td>SG      </td> <td>Atlanta Hawks</td> <td>5.74648       </td>\n",
       "        </tr>\n",
       "        <tr>\n",
       "            <td>Thabo Sefolosha </td> <td>SF      </td> <td>Atlanta Hawks</td> <td>4             </td>\n",
       "        </tr>\n",
       "        <tr>\n",
       "            <td>Mike Scott      </td> <td>PF      </td> <td>Atlanta Hawks</td> <td>3.33333       </td>\n",
       "        </tr>\n",
       "        <tr>\n",
       "            <td>Kent Bazemore   </td> <td>SF      </td> <td>Atlanta Hawks</td> <td>2             </td>\n",
       "        </tr>\n",
       "        <tr>\n",
       "            <td>Dennis Schroder </td> <td>PG      </td> <td>Atlanta Hawks</td> <td>1.7634        </td>\n",
       "        </tr>\n",
       "        <tr>\n",
       "            <td>Tim Hardaway Jr.</td> <td>SG      </td> <td>Atlanta Hawks</td> <td>1.30452       </td>\n",
       "        </tr>\n",
       "    </tbody>\n",
       "</table>\n",
       "<p>... (407 rows omitted)</p>"
      ],
      "text/plain": [
       "PLAYER           | POSITION | TEAM          | '15-'16 SALARY\n",
       "Paul Millsap     | PF       | Atlanta Hawks | 18.6717\n",
       "Al Horford       | C        | Atlanta Hawks | 12\n",
       "Tiago Splitter   | C        | Atlanta Hawks | 9.75625\n",
       "Jeff Teague      | PG       | Atlanta Hawks | 8\n",
       "Kyle Korver      | SG       | Atlanta Hawks | 5.74648\n",
       "Thabo Sefolosha  | SF       | Atlanta Hawks | 4\n",
       "Mike Scott       | PF       | Atlanta Hawks | 3.33333\n",
       "Kent Bazemore    | SF       | Atlanta Hawks | 2\n",
       "Dennis Schroder  | PG       | Atlanta Hawks | 1.7634\n",
       "Tim Hardaway Jr. | SG       | Atlanta Hawks | 1.30452\n",
       "... (407 rows omitted)"
      ]
     },
     "execution_count": 8,
     "metadata": {},
     "output_type": "execute_result"
    }
   ],
   "source": [
    "nba = Table.read_table('nba_salaries.csv')\n",
    "nba"
   ]
  },
  {
   "cell_type": "code",
   "execution_count": 9,
   "metadata": {
    "scrolled": true
   },
   "outputs": [
    {
     "data": {
      "text/html": [
       "<table border=\"1\" class=\"dataframe\">\n",
       "    <thead>\n",
       "        <tr>\n",
       "            <th>PLAYER</th> <th>POSITION</th> <th>SALARY</th>\n",
       "        </tr>\n",
       "    </thead>\n",
       "    <tbody>\n",
       "        <tr>\n",
       "            <td>Paul Millsap    </td> <td>PF      </td> <td>18.6717</td>\n",
       "        </tr>\n",
       "        <tr>\n",
       "            <td>Al Horford      </td> <td>C       </td> <td>12     </td>\n",
       "        </tr>\n",
       "        <tr>\n",
       "            <td>Tiago Splitter  </td> <td>C       </td> <td>9.75625</td>\n",
       "        </tr>\n",
       "        <tr>\n",
       "            <td>Jeff Teague     </td> <td>PG      </td> <td>8      </td>\n",
       "        </tr>\n",
       "        <tr>\n",
       "            <td>Kyle Korver     </td> <td>SG      </td> <td>5.74648</td>\n",
       "        </tr>\n",
       "        <tr>\n",
       "            <td>Thabo Sefolosha </td> <td>SF      </td> <td>4      </td>\n",
       "        </tr>\n",
       "        <tr>\n",
       "            <td>Mike Scott      </td> <td>PF      </td> <td>3.33333</td>\n",
       "        </tr>\n",
       "        <tr>\n",
       "            <td>Kent Bazemore   </td> <td>SF      </td> <td>2      </td>\n",
       "        </tr>\n",
       "        <tr>\n",
       "            <td>Dennis Schroder </td> <td>PG      </td> <td>1.7634 </td>\n",
       "        </tr>\n",
       "        <tr>\n",
       "            <td>Tim Hardaway Jr.</td> <td>SG      </td> <td>1.30452</td>\n",
       "        </tr>\n",
       "    </tbody>\n",
       "</table>\n",
       "<p>... (407 rows omitted)</p>"
      ],
      "text/plain": [
       "PLAYER           | POSITION | SALARY\n",
       "Paul Millsap     | PF       | 18.6717\n",
       "Al Horford       | C        | 12\n",
       "Tiago Splitter   | C        | 9.75625\n",
       "Jeff Teague      | PG       | 8\n",
       "Kyle Korver      | SG       | 5.74648\n",
       "Thabo Sefolosha  | SF       | 4\n",
       "Mike Scott       | PF       | 3.33333\n",
       "Kent Bazemore    | SF       | 2\n",
       "Dennis Schroder  | PG       | 1.7634\n",
       "Tim Hardaway Jr. | SG       | 1.30452\n",
       "... (407 rows omitted)"
      ]
     },
     "execution_count": 9,
     "metadata": {},
     "output_type": "execute_result"
    }
   ],
   "source": [
    "nba = nba.relabeled(3, 'SALARY').drop('TEAM')\n",
    "nba "
   ]
  },
  {
   "cell_type": "code",
   "execution_count": 10,
   "metadata": {},
   "outputs": [
    {
     "data": {
      "text/plain": [
       "array(['Derrick Rose', 'Kyrie Irving', 'Chris Paul', 'Russell Westbrook',\n",
       "       'John Wall'],\n",
       "      dtype='<U24')"
      ]
     },
     "execution_count": 10,
     "metadata": {},
     "output_type": "execute_result"
    }
   ],
   "source": [
    "nba.where('POSITION', 'PG').where('SALARY', are.above(15)).column('PLAYER')"
   ]
  },
  {
   "cell_type": "code",
   "execution_count": 11,
   "metadata": {},
   "outputs": [
    {
     "data": {
      "text/html": [
       "<table border=\"1\" class=\"dataframe\">\n",
       "    <thead>\n",
       "        <tr>\n",
       "            <th>PLAYER</th> <th>POSITION</th> <th>SALARY</th>\n",
       "        </tr>\n",
       "    </thead>\n",
       "    <tbody>\n",
       "    </tbody>\n",
       "</table>"
      ],
      "text/plain": [
       "PLAYER | POSITION | SALARY"
      ]
     },
     "execution_count": 11,
     "metadata": {},
     "output_type": "execute_result"
    }
   ],
   "source": [
    "nba.with_row(['Bernie', 'Mascot', 100])\n",
    "nba.where('PLAYER', are.containing('Bern'))"
   ]
  },
  {
   "cell_type": "code",
   "execution_count": 12,
   "metadata": {},
   "outputs": [
    {
     "data": {
      "text/plain": [
       "array([0])"
      ]
     },
     "execution_count": 12,
     "metadata": {},
     "output_type": "execute_result"
    }
   ],
   "source": [
    "np.arange(1)"
   ]
  },
  {
   "cell_type": "code",
   "execution_count": 13,
   "metadata": {},
   "outputs": [
    {
     "data": {
      "text/plain": [
       "array([], dtype=int64)"
      ]
     },
     "execution_count": 13,
     "metadata": {},
     "output_type": "execute_result"
    }
   ],
   "source": [
    "np.arange(0)"
   ]
  },
  {
   "cell_type": "markdown",
   "metadata": {},
   "source": [
    "## Lecture 7 ##"
   ]
  },
  {
   "cell_type": "markdown",
   "metadata": {},
   "source": [
    "## Census ##"
   ]
  },
  {
   "cell_type": "code",
   "execution_count": 14,
   "metadata": {},
   "outputs": [
    {
     "data": {
      "text/html": [
       "<table border=\"1\" class=\"dataframe\">\n",
       "    <thead>\n",
       "        <tr>\n",
       "            <th>SEX</th> <th>AGE</th> <th>CENSUS2010POP</th> <th>ESTIMATESBASE2010</th> <th>POPESTIMATE2010</th> <th>POPESTIMATE2011</th> <th>POPESTIMATE2012</th> <th>POPESTIMATE2013</th> <th>POPESTIMATE2014</th>\n",
       "        </tr>\n",
       "    </thead>\n",
       "    <tbody>\n",
       "        <tr>\n",
       "            <td>0   </td> <td>0   </td> <td>3,944,153    </td> <td>3,944,160        </td> <td>3,951,330      </td> <td>3,963,071      </td> <td>3,926,665      </td> <td>3,945,610      </td> <td>3,948,350      </td>\n",
       "        </tr>\n",
       "        <tr>\n",
       "            <td>0   </td> <td>1   </td> <td>3,978,070    </td> <td>3,978,090        </td> <td>3,957,888      </td> <td>3,966,510      </td> <td>3,978,006      </td> <td>3,943,077      </td> <td>3,962,123      </td>\n",
       "        </tr>\n",
       "        <tr>\n",
       "            <td>0   </td> <td>2   </td> <td>4,096,929    </td> <td>4,096,939        </td> <td>4,090,862      </td> <td>3,971,573      </td> <td>3,979,952      </td> <td>3,992,690      </td> <td>3,957,772      </td>\n",
       "        </tr>\n",
       "        <tr>\n",
       "            <td>0   </td> <td>3   </td> <td>4,119,040    </td> <td>4,119,051        </td> <td>4,111,920      </td> <td>4,102,501      </td> <td>3,983,049      </td> <td>3,992,425      </td> <td>4,005,190      </td>\n",
       "        </tr>\n",
       "        <tr>\n",
       "            <td>0   </td> <td>4   </td> <td>4,063,170    </td> <td>4,063,186        </td> <td>4,077,552      </td> <td>4,122,303      </td> <td>4,112,638      </td> <td>3,994,047      </td> <td>4,003,448      </td>\n",
       "        </tr>\n",
       "        <tr>\n",
       "            <td>0   </td> <td>5   </td> <td>4,056,858    </td> <td>4,056,872        </td> <td>4,064,653      </td> <td>4,087,713      </td> <td>4,132,210      </td> <td>4,123,408      </td> <td>4,004,858      </td>\n",
       "        </tr>\n",
       "        <tr>\n",
       "            <td>0   </td> <td>6   </td> <td>4,066,381    </td> <td>4,066,412        </td> <td>4,073,013      </td> <td>4,074,979      </td> <td>4,097,780      </td> <td>4,143,094      </td> <td>4,134,352      </td>\n",
       "        </tr>\n",
       "        <tr>\n",
       "            <td>0   </td> <td>7   </td> <td>4,030,579    </td> <td>4,030,594        </td> <td>4,043,047      </td> <td>4,083,240      </td> <td>4,084,964      </td> <td>4,108,615      </td> <td>4,154,000      </td>\n",
       "        </tr>\n",
       "        <tr>\n",
       "            <td>0   </td> <td>8   </td> <td>4,046,486    </td> <td>4,046,497        </td> <td>4,025,604      </td> <td>4,053,206      </td> <td>4,093,213      </td> <td>4,095,827      </td> <td>4,119,524      </td>\n",
       "        </tr>\n",
       "        <tr>\n",
       "            <td>0   </td> <td>9   </td> <td>4,148,353    </td> <td>4,148,369        </td> <td>4,125,415      </td> <td>4,035,769      </td> <td>4,063,193      </td> <td>4,104,133      </td> <td>4,106,832      </td>\n",
       "        </tr>\n",
       "    </tbody>\n",
       "</table>\n",
       "<p>... (296 rows omitted)</p>"
      ],
      "text/plain": [
       "SEX  | AGE  | CENSUS2010POP | ESTIMATESBASE2010 | POPESTIMATE2010 | POPESTIMATE2011 | POPESTIMATE2012 | POPESTIMATE2013 | POPESTIMATE2014\n",
       "0    | 0    | 3,944,153     | 3,944,160         | 3,951,330       | 3,963,071       | 3,926,665       | 3,945,610       | 3,948,350\n",
       "0    | 1    | 3,978,070     | 3,978,090         | 3,957,888       | 3,966,510       | 3,978,006       | 3,943,077       | 3,962,123\n",
       "0    | 2    | 4,096,929     | 4,096,939         | 4,090,862       | 3,971,573       | 3,979,952       | 3,992,690       | 3,957,772\n",
       "0    | 3    | 4,119,040     | 4,119,051         | 4,111,920       | 4,102,501       | 3,983,049       | 3,992,425       | 4,005,190\n",
       "0    | 4    | 4,063,170     | 4,063,186         | 4,077,552       | 4,122,303       | 4,112,638       | 3,994,047       | 4,003,448\n",
       "0    | 5    | 4,056,858     | 4,056,872         | 4,064,653       | 4,087,713       | 4,132,210       | 4,123,408       | 4,004,858\n",
       "0    | 6    | 4,066,381     | 4,066,412         | 4,073,013       | 4,074,979       | 4,097,780       | 4,143,094       | 4,134,352\n",
       "0    | 7    | 4,030,579     | 4,030,594         | 4,043,047       | 4,083,240       | 4,084,964       | 4,108,615       | 4,154,000\n",
       "0    | 8    | 4,046,486     | 4,046,497         | 4,025,604       | 4,053,206       | 4,093,213       | 4,095,827       | 4,119,524\n",
       "0    | 9    | 4,148,353     | 4,148,369         | 4,125,415       | 4,035,769       | 4,063,193       | 4,104,133       | 4,106,832\n",
       "... (296 rows omitted)"
      ]
     },
     "execution_count": 14,
     "metadata": {},
     "output_type": "execute_result"
    }
   ],
   "source": [
    "full = Table.read_table('nc-est2014-agesex-res.csv')\n",
    "full"
   ]
  },
  {
   "cell_type": "code",
   "execution_count": 15,
   "metadata": {},
   "outputs": [
    {
     "data": {
      "text/html": [
       "<table border=\"1\" class=\"dataframe\">\n",
       "    <thead>\n",
       "        <tr>\n",
       "            <th>SEX</th> <th>AGE</th> <th>POPESTIMATE2010</th> <th>POPESTIMATE2014</th>\n",
       "        </tr>\n",
       "    </thead>\n",
       "    <tbody>\n",
       "        <tr>\n",
       "            <td>0   </td> <td>0   </td> <td>3,951,330      </td> <td>3,948,350      </td>\n",
       "        </tr>\n",
       "        <tr>\n",
       "            <td>0   </td> <td>1   </td> <td>3,957,888      </td> <td>3,962,123      </td>\n",
       "        </tr>\n",
       "        <tr>\n",
       "            <td>0   </td> <td>2   </td> <td>4,090,862      </td> <td>3,957,772      </td>\n",
       "        </tr>\n",
       "        <tr>\n",
       "            <td>0   </td> <td>3   </td> <td>4,111,920      </td> <td>4,005,190      </td>\n",
       "        </tr>\n",
       "        <tr>\n",
       "            <td>0   </td> <td>4   </td> <td>4,077,552      </td> <td>4,003,448      </td>\n",
       "        </tr>\n",
       "        <tr>\n",
       "            <td>0   </td> <td>5   </td> <td>4,064,653      </td> <td>4,004,858      </td>\n",
       "        </tr>\n",
       "        <tr>\n",
       "            <td>0   </td> <td>6   </td> <td>4,073,013      </td> <td>4,134,352      </td>\n",
       "        </tr>\n",
       "        <tr>\n",
       "            <td>0   </td> <td>7   </td> <td>4,043,047      </td> <td>4,154,000      </td>\n",
       "        </tr>\n",
       "        <tr>\n",
       "            <td>0   </td> <td>8   </td> <td>4,025,604      </td> <td>4,119,524      </td>\n",
       "        </tr>\n",
       "        <tr>\n",
       "            <td>0   </td> <td>9   </td> <td>4,125,415      </td> <td>4,106,832      </td>\n",
       "        </tr>\n",
       "    </tbody>\n",
       "</table>\n",
       "<p>... (296 rows omitted)</p>"
      ],
      "text/plain": [
       "SEX  | AGE  | POPESTIMATE2010 | POPESTIMATE2014\n",
       "0    | 0    | 3,951,330       | 3,948,350\n",
       "0    | 1    | 3,957,888       | 3,962,123\n",
       "0    | 2    | 4,090,862       | 3,957,772\n",
       "0    | 3    | 4,111,920       | 4,005,190\n",
       "0    | 4    | 4,077,552       | 4,003,448\n",
       "0    | 5    | 4,064,653       | 4,004,858\n",
       "0    | 6    | 4,073,013       | 4,134,352\n",
       "0    | 7    | 4,043,047       | 4,154,000\n",
       "0    | 8    | 4,025,604       | 4,119,524\n",
       "0    | 9    | 4,125,415       | 4,106,832\n",
       "... (296 rows omitted)"
      ]
     },
     "execution_count": 15,
     "metadata": {},
     "output_type": "execute_result"
    }
   ],
   "source": [
    "partial = full.select('SEX', 'AGE', 'POPESTIMATE2010', 'POPESTIMATE2014')\n",
    "partial"
   ]
  },
  {
   "cell_type": "code",
   "execution_count": 16,
   "metadata": {},
   "outputs": [
    {
     "data": {
      "text/html": [
       "<table border=\"1\" class=\"dataframe\">\n",
       "    <thead>\n",
       "        <tr>\n",
       "            <th>SEX</th> <th>AGE</th> <th>2010</th> <th>2014</th>\n",
       "        </tr>\n",
       "    </thead>\n",
       "    <tbody>\n",
       "        <tr>\n",
       "            <td>0   </td> <td>0   </td> <td>3,951,330</td> <td>3,948,350</td>\n",
       "        </tr>\n",
       "        <tr>\n",
       "            <td>0   </td> <td>1   </td> <td>3,957,888</td> <td>3,962,123</td>\n",
       "        </tr>\n",
       "        <tr>\n",
       "            <td>0   </td> <td>2   </td> <td>4,090,862</td> <td>3,957,772</td>\n",
       "        </tr>\n",
       "        <tr>\n",
       "            <td>0   </td> <td>3   </td> <td>4,111,920</td> <td>4,005,190</td>\n",
       "        </tr>\n",
       "        <tr>\n",
       "            <td>0   </td> <td>4   </td> <td>4,077,552</td> <td>4,003,448</td>\n",
       "        </tr>\n",
       "        <tr>\n",
       "            <td>0   </td> <td>5   </td> <td>4,064,653</td> <td>4,004,858</td>\n",
       "        </tr>\n",
       "        <tr>\n",
       "            <td>0   </td> <td>6   </td> <td>4,073,013</td> <td>4,134,352</td>\n",
       "        </tr>\n",
       "        <tr>\n",
       "            <td>0   </td> <td>7   </td> <td>4,043,047</td> <td>4,154,000</td>\n",
       "        </tr>\n",
       "        <tr>\n",
       "            <td>0   </td> <td>8   </td> <td>4,025,604</td> <td>4,119,524</td>\n",
       "        </tr>\n",
       "        <tr>\n",
       "            <td>0   </td> <td>9   </td> <td>4,125,415</td> <td>4,106,832</td>\n",
       "        </tr>\n",
       "    </tbody>\n",
       "</table>\n",
       "<p>... (296 rows omitted)</p>"
      ],
      "text/plain": [
       "SEX  | AGE  | 2010      | 2014\n",
       "0    | 0    | 3,951,330 | 3,948,350\n",
       "0    | 1    | 3,957,888 | 3,962,123\n",
       "0    | 2    | 4,090,862 | 3,957,772\n",
       "0    | 3    | 4,111,920 | 4,005,190\n",
       "0    | 4    | 4,077,552 | 4,003,448\n",
       "0    | 5    | 4,064,653 | 4,004,858\n",
       "0    | 6    | 4,073,013 | 4,134,352\n",
       "0    | 7    | 4,043,047 | 4,154,000\n",
       "0    | 8    | 4,025,604 | 4,119,524\n",
       "0    | 9    | 4,125,415 | 4,106,832\n",
       "... (296 rows omitted)"
      ]
     },
     "execution_count": 16,
     "metadata": {},
     "output_type": "execute_result"
    }
   ],
   "source": [
    "simple = partial.relabeled('POPESTIMATE2010', '2010').relabeled('POPESTIMATE2014', '2014')\n",
    "simple"
   ]
  },
  {
   "cell_type": "code",
   "execution_count": 17,
   "metadata": {},
   "outputs": [
    {
     "data": {
      "text/html": [
       "<table border=\"1\" class=\"dataframe\">\n",
       "    <thead>\n",
       "        <tr>\n",
       "            <th>SEX</th> <th>AGE</th> <th>2010</th> <th>2014</th>\n",
       "        </tr>\n",
       "    </thead>\n",
       "    <tbody>\n",
       "        <tr>\n",
       "            <td>2   </td> <td>999 </td> <td>157,257,573</td> <td>161,920,569</td>\n",
       "        </tr>\n",
       "        <tr>\n",
       "            <td>1   </td> <td>999 </td> <td>152,089,484</td> <td>156,936,487</td>\n",
       "        </tr>\n",
       "        <tr>\n",
       "            <td>0   </td> <td>999 </td> <td>309,347,057</td> <td>318,857,056</td>\n",
       "        </tr>\n",
       "        <tr>\n",
       "            <td>2   </td> <td>100 </td> <td>45,058     </td> <td>58,468     </td>\n",
       "        </tr>\n",
       "        <tr>\n",
       "            <td>1   </td> <td>100 </td> <td>9,351      </td> <td>13,729     </td>\n",
       "        </tr>\n",
       "        <tr>\n",
       "            <td>0   </td> <td>100 </td> <td>54,409     </td> <td>72,197     </td>\n",
       "        </tr>\n",
       "        <tr>\n",
       "            <td>2   </td> <td>99  </td> <td>26,074     </td> <td>32,791     </td>\n",
       "        </tr>\n",
       "        <tr>\n",
       "            <td>1   </td> <td>99  </td> <td>6,104      </td> <td>9,037      </td>\n",
       "        </tr>\n",
       "        <tr>\n",
       "            <td>0   </td> <td>99  </td> <td>32,178     </td> <td>41,828     </td>\n",
       "        </tr>\n",
       "        <tr>\n",
       "            <td>2   </td> <td>98  </td> <td>37,533     </td> <td>46,536     </td>\n",
       "        </tr>\n",
       "    </tbody>\n",
       "</table>\n",
       "<p>... (296 rows omitted)</p>"
      ],
      "text/plain": [
       "SEX  | AGE  | 2010        | 2014\n",
       "2    | 999  | 157,257,573 | 161,920,569\n",
       "1    | 999  | 152,089,484 | 156,936,487\n",
       "0    | 999  | 309,347,057 | 318,857,056\n",
       "2    | 100  | 45,058      | 58,468\n",
       "1    | 100  | 9,351       | 13,729\n",
       "0    | 100  | 54,409      | 72,197\n",
       "2    | 99   | 26,074      | 32,791\n",
       "1    | 99   | 6,104       | 9,037\n",
       "0    | 99   | 32,178      | 41,828\n",
       "2    | 98   | 37,533      | 46,536\n",
       "... (296 rows omitted)"
      ]
     },
     "execution_count": 17,
     "metadata": {},
     "output_type": "execute_result"
    }
   ],
   "source": [
    "simple.sort('AGE', descending=True)"
   ]
  },
  {
   "cell_type": "code",
   "execution_count": 18,
   "metadata": {},
   "outputs": [],
   "source": [
    "no_999 = simple.where('AGE', are.below(999))"
   ]
  },
  {
   "cell_type": "code",
   "execution_count": 19,
   "metadata": {},
   "outputs": [],
   "source": [
    "everyone = no_999.where('SEX', 0).drop('SEX')\n",
    "males = no_999.where('SEX', 1).drop('SEX')\n",
    "females = no_999.where('SEX', 2).drop('SEX')"
   ]
  },
  {
   "cell_type": "code",
   "execution_count": 20,
   "metadata": {},
   "outputs": [
    {
     "data": {
      "text/html": [
       "<table border=\"1\" class=\"dataframe\">\n",
       "    <thead>\n",
       "        <tr>\n",
       "            <th>AGE</th> <th>2010</th> <th>2014</th>\n",
       "        </tr>\n",
       "    </thead>\n",
       "    <tbody>\n",
       "        <tr>\n",
       "            <td>0   </td> <td>1,932,910</td> <td>1,930,493</td>\n",
       "        </tr>\n",
       "        <tr>\n",
       "            <td>1   </td> <td>1,937,556</td> <td>1,938,870</td>\n",
       "        </tr>\n",
       "        <tr>\n",
       "            <td>2   </td> <td>2,002,177</td> <td>1,935,270</td>\n",
       "        </tr>\n",
       "        <tr>\n",
       "            <td>3   </td> <td>2,010,648</td> <td>1,956,572</td>\n",
       "        </tr>\n",
       "        <tr>\n",
       "            <td>4   </td> <td>1,993,240</td> <td>1,959,950</td>\n",
       "        </tr>\n",
       "        <tr>\n",
       "            <td>5   </td> <td>1,988,080</td> <td>1,961,391</td>\n",
       "        </tr>\n",
       "        <tr>\n",
       "            <td>6   </td> <td>1,993,603</td> <td>2,024,024</td>\n",
       "        </tr>\n",
       "        <tr>\n",
       "            <td>7   </td> <td>1,979,908</td> <td>2,031,760</td>\n",
       "        </tr>\n",
       "        <tr>\n",
       "            <td>8   </td> <td>1,971,142</td> <td>2,014,402</td>\n",
       "        </tr>\n",
       "        <tr>\n",
       "            <td>9   </td> <td>2,018,378</td> <td>2,009,560</td>\n",
       "        </tr>\n",
       "    </tbody>\n",
       "</table>\n",
       "<p>... (91 rows omitted)</p>"
      ],
      "text/plain": [
       "AGE  | 2010      | 2014\n",
       "0    | 1,932,910 | 1,930,493\n",
       "1    | 1,937,556 | 1,938,870\n",
       "2    | 2,002,177 | 1,935,270\n",
       "3    | 2,010,648 | 1,956,572\n",
       "4    | 1,993,240 | 1,959,950\n",
       "5    | 1,988,080 | 1,961,391\n",
       "6    | 1,993,603 | 2,024,024\n",
       "7    | 1,979,908 | 2,031,760\n",
       "8    | 1,971,142 | 2,014,402\n",
       "9    | 2,018,378 | 2,009,560\n",
       "... (91 rows omitted)"
      ]
     },
     "execution_count": 20,
     "metadata": {},
     "output_type": "execute_result"
    }
   ],
   "source": [
    "females"
   ]
  },
  {
   "cell_type": "code",
   "execution_count": 21,
   "metadata": {},
   "outputs": [
    {
     "data": {
      "text/html": [
       "<table border=\"1\" class=\"dataframe\">\n",
       "    <thead>\n",
       "        <tr>\n",
       "            <th>AGE</th> <th>2010</th> <th>2014</th>\n",
       "        </tr>\n",
       "    </thead>\n",
       "    <tbody>\n",
       "        <tr>\n",
       "            <td>54  </td> <td>2,196,798</td> <td>2,331,961</td>\n",
       "        </tr>\n",
       "        <tr>\n",
       "            <td>53  </td> <td>2,268,457</td> <td>2,316,131</td>\n",
       "        </tr>\n",
       "        <tr>\n",
       "            <td>24  </td> <td>2,082,209</td> <td>2,301,237</td>\n",
       "        </tr>\n",
       "        <tr>\n",
       "            <td>23  </td> <td>2,066,126</td> <td>2,298,701</td>\n",
       "        </tr>\n",
       "        <tr>\n",
       "            <td>51  </td> <td>2,289,164</td> <td>2,283,261</td>\n",
       "        </tr>\n",
       "        <tr>\n",
       "            <td>52  </td> <td>2,283,408</td> <td>2,282,051</td>\n",
       "        </tr>\n",
       "        <tr>\n",
       "            <td>50  </td> <td>2,355,349</td> <td>2,279,824</td>\n",
       "        </tr>\n",
       "        <tr>\n",
       "            <td>55  </td> <td>2,183,762</td> <td>2,263,367</td>\n",
       "        </tr>\n",
       "        <tr>\n",
       "            <td>56  </td> <td>2,108,681</td> <td>2,254,749</td>\n",
       "        </tr>\n",
       "        <tr>\n",
       "            <td>22  </td> <td>2,098,759</td> <td>2,244,480</td>\n",
       "        </tr>\n",
       "    </tbody>\n",
       "</table>\n",
       "<p>... (91 rows omitted)</p>"
      ],
      "text/plain": [
       "AGE  | 2010      | 2014\n",
       "54   | 2,196,798 | 2,331,961\n",
       "53   | 2,268,457 | 2,316,131\n",
       "24   | 2,082,209 | 2,301,237\n",
       "23   | 2,066,126 | 2,298,701\n",
       "51   | 2,289,164 | 2,283,261\n",
       "52   | 2,283,408 | 2,282,051\n",
       "50   | 2,355,349 | 2,279,824\n",
       "55   | 2,183,762 | 2,263,367\n",
       "56   | 2,108,681 | 2,254,749\n",
       "22   | 2,098,759 | 2,244,480\n",
       "... (91 rows omitted)"
      ]
     },
     "execution_count": 21,
     "metadata": {},
     "output_type": "execute_result"
    }
   ],
   "source": [
    "females.sort('2014', descending=True)"
   ]
  },
  {
   "cell_type": "code",
   "execution_count": 22,
   "metadata": {},
   "outputs": [
    {
     "data": {
      "text/html": [
       "<table border=\"1\" class=\"dataframe\">\n",
       "    <thead>\n",
       "        <tr>\n",
       "            <th>AGE</th> <th>2010</th> <th>2014</th>\n",
       "        </tr>\n",
       "    </thead>\n",
       "    <tbody>\n",
       "        <tr>\n",
       "            <td>23  </td> <td>2,151,095</td> <td>2,399,883</td>\n",
       "        </tr>\n",
       "        <tr>\n",
       "            <td>24  </td> <td>2,161,380</td> <td>2,391,398</td>\n",
       "        </tr>\n",
       "        <tr>\n",
       "            <td>22  </td> <td>2,188,228</td> <td>2,367,842</td>\n",
       "        </tr>\n",
       "        <tr>\n",
       "            <td>21  </td> <td>2,241,095</td> <td>2,310,734</td>\n",
       "        </tr>\n",
       "        <tr>\n",
       "            <td>25  </td> <td>2,177,171</td> <td>2,295,836</td>\n",
       "        </tr>\n",
       "        <tr>\n",
       "            <td>20  </td> <td>2,331,846</td> <td>2,269,570</td>\n",
       "        </tr>\n",
       "        <tr>\n",
       "            <td>54  </td> <td>2,091,677</td> <td>2,242,828</td>\n",
       "        </tr>\n",
       "        <tr>\n",
       "            <td>26  </td> <td>2,102,375</td> <td>2,240,026</td>\n",
       "        </tr>\n",
       "        <tr>\n",
       "            <td>19  </td> <td>2,334,906</td> <td>2,220,790</td>\n",
       "        </tr>\n",
       "        <tr>\n",
       "            <td>53  </td> <td>2,170,965</td> <td>2,219,617</td>\n",
       "        </tr>\n",
       "    </tbody>\n",
       "</table>\n",
       "<p>... (91 rows omitted)</p>"
      ],
      "text/plain": [
       "AGE  | 2010      | 2014\n",
       "23   | 2,151,095 | 2,399,883\n",
       "24   | 2,161,380 | 2,391,398\n",
       "22   | 2,188,228 | 2,367,842\n",
       "21   | 2,241,095 | 2,310,734\n",
       "25   | 2,177,171 | 2,295,836\n",
       "20   | 2,331,846 | 2,269,570\n",
       "54   | 2,091,677 | 2,242,828\n",
       "26   | 2,102,375 | 2,240,026\n",
       "19   | 2,334,906 | 2,220,790\n",
       "53   | 2,170,965 | 2,219,617\n",
       "... (91 rows omitted)"
      ]
     },
     "execution_count": 22,
     "metadata": {},
     "output_type": "execute_result"
    }
   ],
   "source": [
    "males.sort('2014', descending=True)"
   ]
  },
  {
   "cell_type": "code",
   "execution_count": 23,
   "metadata": {},
   "outputs": [],
   "source": [
    "pop_2014 = Table().with_column(\n",
    "    'Age', males.column('AGE'),\n",
    "    'Males', males.column('2014'),\n",
    "    'Females', females.column('2014')\n",
    ")"
   ]
  },
  {
   "cell_type": "code",
   "execution_count": 24,
   "metadata": {},
   "outputs": [
    {
     "data": {
      "text/html": [
       "<table border=\"1\" class=\"dataframe\">\n",
       "    <thead>\n",
       "        <tr>\n",
       "            <th>Age</th> <th>Males</th> <th>Females</th>\n",
       "        </tr>\n",
       "    </thead>\n",
       "    <tbody>\n",
       "        <tr>\n",
       "            <td>0   </td> <td>2,017,857</td> <td>1,930,493</td>\n",
       "        </tr>\n",
       "        <tr>\n",
       "            <td>1   </td> <td>2,023,253</td> <td>1,938,870</td>\n",
       "        </tr>\n",
       "        <tr>\n",
       "            <td>2   </td> <td>2,022,502</td> <td>1,935,270</td>\n",
       "        </tr>\n",
       "        <tr>\n",
       "            <td>3   </td> <td>2,048,618</td> <td>1,956,572</td>\n",
       "        </tr>\n",
       "        <tr>\n",
       "            <td>4   </td> <td>2,043,498</td> <td>1,959,950</td>\n",
       "        </tr>\n",
       "        <tr>\n",
       "            <td>5   </td> <td>2,043,467</td> <td>1,961,391</td>\n",
       "        </tr>\n",
       "        <tr>\n",
       "            <td>6   </td> <td>2,110,328</td> <td>2,024,024</td>\n",
       "        </tr>\n",
       "        <tr>\n",
       "            <td>7   </td> <td>2,122,240</td> <td>2,031,760</td>\n",
       "        </tr>\n",
       "        <tr>\n",
       "            <td>8   </td> <td>2,105,122</td> <td>2,014,402</td>\n",
       "        </tr>\n",
       "        <tr>\n",
       "            <td>9   </td> <td>2,097,272</td> <td>2,009,560</td>\n",
       "        </tr>\n",
       "    </tbody>\n",
       "</table>\n",
       "<p>... (91 rows omitted)</p>"
      ],
      "text/plain": [
       "Age  | Males     | Females\n",
       "0    | 2,017,857 | 1,930,493\n",
       "1    | 2,023,253 | 1,938,870\n",
       "2    | 2,022,502 | 1,935,270\n",
       "3    | 2,048,618 | 1,956,572\n",
       "4    | 2,043,498 | 1,959,950\n",
       "5    | 2,043,467 | 1,961,391\n",
       "6    | 2,110,328 | 2,024,024\n",
       "7    | 2,122,240 | 2,031,760\n",
       "8    | 2,105,122 | 2,014,402\n",
       "9    | 2,097,272 | 2,009,560\n",
       "... (91 rows omitted)"
      ]
     },
     "execution_count": 24,
     "metadata": {},
     "output_type": "execute_result"
    }
   ],
   "source": [
    "pop_2014"
   ]
  },
  {
   "cell_type": "code",
   "execution_count": 25,
   "metadata": {},
   "outputs": [],
   "source": [
    "percent_females = 100 *pop_2014.column('Females')/(pop_2014.column('Males') + pop_2014.column('Females'))\n",
    "counts_and_percents = pop_2014.with_column('Percent Female', percent_females)"
   ]
  },
  {
   "cell_type": "code",
   "execution_count": 26,
   "metadata": {},
   "outputs": [
    {
     "data": {
      "text/html": [
       "<table border=\"1\" class=\"dataframe\">\n",
       "    <thead>\n",
       "        <tr>\n",
       "            <th>Age</th> <th>Males</th> <th>Females</th> <th>Percent Female</th>\n",
       "        </tr>\n",
       "    </thead>\n",
       "    <tbody>\n",
       "        <tr>\n",
       "            <td>0   </td> <td>2,017,857</td> <td>1,930,493</td> <td>48.8937       </td>\n",
       "        </tr>\n",
       "        <tr>\n",
       "            <td>1   </td> <td>2,023,253</td> <td>1,938,870</td> <td>48.9351       </td>\n",
       "        </tr>\n",
       "        <tr>\n",
       "            <td>2   </td> <td>2,022,502</td> <td>1,935,270</td> <td>48.898        </td>\n",
       "        </tr>\n",
       "        <tr>\n",
       "            <td>3   </td> <td>2,048,618</td> <td>1,956,572</td> <td>48.8509       </td>\n",
       "        </tr>\n",
       "        <tr>\n",
       "            <td>4   </td> <td>2,043,498</td> <td>1,959,950</td> <td>48.9565       </td>\n",
       "        </tr>\n",
       "        <tr>\n",
       "            <td>5   </td> <td>2,043,467</td> <td>1,961,391</td> <td>48.9753       </td>\n",
       "        </tr>\n",
       "        <tr>\n",
       "            <td>6   </td> <td>2,110,328</td> <td>2,024,024</td> <td>48.9563       </td>\n",
       "        </tr>\n",
       "        <tr>\n",
       "            <td>7   </td> <td>2,122,240</td> <td>2,031,760</td> <td>48.9109       </td>\n",
       "        </tr>\n",
       "        <tr>\n",
       "            <td>8   </td> <td>2,105,122</td> <td>2,014,402</td> <td>48.8989       </td>\n",
       "        </tr>\n",
       "        <tr>\n",
       "            <td>9   </td> <td>2,097,272</td> <td>2,009,560</td> <td>48.9321       </td>\n",
       "        </tr>\n",
       "    </tbody>\n",
       "</table>\n",
       "<p>... (91 rows omitted)</p>"
      ],
      "text/plain": [
       "Age  | Males     | Females   | Percent Female\n",
       "0    | 2,017,857 | 1,930,493 | 48.8937\n",
       "1    | 2,023,253 | 1,938,870 | 48.9351\n",
       "2    | 2,022,502 | 1,935,270 | 48.898\n",
       "3    | 2,048,618 | 1,956,572 | 48.8509\n",
       "4    | 2,043,498 | 1,959,950 | 48.9565\n",
       "5    | 2,043,467 | 1,961,391 | 48.9753\n",
       "6    | 2,110,328 | 2,024,024 | 48.9563\n",
       "7    | 2,122,240 | 2,031,760 | 48.9109\n",
       "8    | 2,105,122 | 2,014,402 | 48.8989\n",
       "9    | 2,097,272 | 2,009,560 | 48.9321\n",
       "... (91 rows omitted)"
      ]
     },
     "execution_count": 26,
     "metadata": {},
     "output_type": "execute_result"
    }
   ],
   "source": [
    "counts_and_percents"
   ]
  },
  {
   "cell_type": "code",
   "execution_count": null,
   "metadata": {},
   "outputs": [],
   "source": []
  },
  {
   "cell_type": "markdown",
   "metadata": {},
   "source": [
    "## Line Graphs ##"
   ]
  },
  {
   "cell_type": "code",
   "execution_count": 27,
   "metadata": {},
   "outputs": [
    {
     "data": {
      "image/png": "[encoded data removed]",
      "text/plain": [
       "<matplotlib.figure.Figure at 0x7fb094dedf28>"
      ]
     },
     "metadata": {},
     "output_type": "display_data"
    }
   ],
   "source": [
    "counts_and_percents.plot('Age', 'Percent Female')"
   ]
  },
  {
   "cell_type": "code",
   "execution_count": 28,
   "metadata": {},
   "outputs": [
    {
     "data": {
      "text/html": [
       "<table border=\"1\" class=\"dataframe\">\n",
       "    <thead>\n",
       "        <tr>\n",
       "            <th>Age</th> <th>Males</th> <th>Females</th>\n",
       "        </tr>\n",
       "    </thead>\n",
       "    <tbody>\n",
       "        <tr>\n",
       "            <td>0   </td> <td>2,017,857</td> <td>1,930,493</td>\n",
       "        </tr>\n",
       "        <tr>\n",
       "            <td>1   </td> <td>2,023,253</td> <td>1,938,870</td>\n",
       "        </tr>\n",
       "        <tr>\n",
       "            <td>2   </td> <td>2,022,502</td> <td>1,935,270</td>\n",
       "        </tr>\n",
       "        <tr>\n",
       "            <td>3   </td> <td>2,048,618</td> <td>1,956,572</td>\n",
       "        </tr>\n",
       "        <tr>\n",
       "            <td>4   </td> <td>2,043,498</td> <td>1,959,950</td>\n",
       "        </tr>\n",
       "        <tr>\n",
       "            <td>5   </td> <td>2,043,467</td> <td>1,961,391</td>\n",
       "        </tr>\n",
       "        <tr>\n",
       "            <td>6   </td> <td>2,110,328</td> <td>2,024,024</td>\n",
       "        </tr>\n",
       "        <tr>\n",
       "            <td>7   </td> <td>2,122,240</td> <td>2,031,760</td>\n",
       "        </tr>\n",
       "        <tr>\n",
       "            <td>8   </td> <td>2,105,122</td> <td>2,014,402</td>\n",
       "        </tr>\n",
       "        <tr>\n",
       "            <td>9   </td> <td>2,097,272</td> <td>2,009,560</td>\n",
       "        </tr>\n",
       "    </tbody>\n",
       "</table>\n",
       "<p>... (91 rows omitted)</p>"
      ],
      "text/plain": [
       "Age  | Males     | Females\n",
       "0    | 2,017,857 | 1,930,493\n",
       "1    | 2,023,253 | 1,938,870\n",
       "2    | 2,022,502 | 1,935,270\n",
       "3    | 2,048,618 | 1,956,572\n",
       "4    | 2,043,498 | 1,959,950\n",
       "5    | 2,043,467 | 1,961,391\n",
       "6    | 2,110,328 | 2,024,024\n",
       "7    | 2,122,240 | 2,031,760\n",
       "8    | 2,105,122 | 2,014,402\n",
       "9    | 2,097,272 | 2,009,560\n",
       "... (91 rows omitted)"
      ]
     },
     "execution_count": 28,
     "metadata": {},
     "output_type": "execute_result"
    }
   ],
   "source": [
    "pop_2014"
   ]
  },
  {
   "cell_type": "code",
   "execution_count": 29,
   "metadata": {},
   "outputs": [
    {
     "data": {
      "image/png": "[encoded data removed]",
      "text/plain": [
       "<matplotlib.figure.Figure at 0x7fb094ded8d0>"
      ]
     },
     "metadata": {},
     "output_type": "display_data"
    }
   ],
   "source": [
    "pop_2014.plot('Age')"
   ]
  },
  {
   "cell_type": "code",
   "execution_count": 30,
   "metadata": {},
   "outputs": [
    {
     "data": {
      "text/html": [
       "<table border=\"1\" class=\"dataframe\">\n",
       "    <thead>\n",
       "        <tr>\n",
       "            <th>Age</th> <th>Males</th> <th>Females</th>\n",
       "        </tr>\n",
       "    </thead>\n",
       "    <tbody>\n",
       "        <tr>\n",
       "            <td>65  </td> <td>1,607,688</td> <td>1,776,761</td>\n",
       "        </tr>\n",
       "        <tr>\n",
       "            <td>66  </td> <td>1,589,127</td> <td>1,758,649</td>\n",
       "        </tr>\n",
       "        <tr>\n",
       "            <td>67  </td> <td>1,653,257</td> <td>1,832,245</td>\n",
       "        </tr>\n",
       "        <tr>\n",
       "            <td>68  </td> <td>1,211,480</td> <td>1,361,047</td>\n",
       "        </tr>\n",
       "        <tr>\n",
       "            <td>69  </td> <td>1,187,554</td> <td>1,347,458</td>\n",
       "        </tr>\n",
       "        <tr>\n",
       "            <td>70  </td> <td>1,149,247</td> <td>1,317,238</td>\n",
       "        </tr>\n",
       "        <tr>\n",
       "            <td>71  </td> <td>1,169,356</td> <td>1,350,392</td>\n",
       "        </tr>\n",
       "        <tr>\n",
       "            <td>72  </td> <td>1,010,896</td> <td>1,183,338</td>\n",
       "        </tr>\n",
       "        <tr>\n",
       "            <td>73  </td> <td>913,008  </td> <td>1,089,183</td>\n",
       "        </tr>\n",
       "        <tr>\n",
       "            <td>74  </td> <td>857,432  </td> <td>1,032,934</td>\n",
       "        </tr>\n",
       "    </tbody>\n",
       "</table>"
      ],
      "text/plain": [
       "Age  | Males     | Females\n",
       "65   | 1,607,688 | 1,776,761\n",
       "66   | 1,589,127 | 1,758,649\n",
       "67   | 1,653,257 | 1,832,245\n",
       "68   | 1,211,480 | 1,361,047\n",
       "69   | 1,187,554 | 1,347,458\n",
       "70   | 1,149,247 | 1,317,238\n",
       "71   | 1,169,356 | 1,350,392\n",
       "72   | 1,010,896 | 1,183,338\n",
       "73   | 913,008   | 1,089,183\n",
       "74   | 857,432   | 1,032,934"
      ]
     },
     "execution_count": 30,
     "metadata": {},
     "output_type": "execute_result"
    }
   ],
   "source": [
    "pop_2014.where('Age', are.between(65, 75))"
   ]
  },
  {
   "cell_type": "code",
   "execution_count": 31,
   "metadata": {},
   "outputs": [
    {
     "data": {
      "text/plain": [
       "array([1947, 1946, 1945, 1944, 1943, 1942])"
      ]
     },
     "execution_count": 31,
     "metadata": {},
     "output_type": "execute_result"
    }
   ],
   "source": [
    "2014 - np.arange(67, 73)"
   ]
  },
  {
   "cell_type": "code",
   "execution_count": 32,
   "metadata": {},
   "outputs": [
    {
     "data": {
      "text/html": [
       "<table border=\"1\" class=\"dataframe\">\n",
       "    <thead>\n",
       "        <tr>\n",
       "            <th>AGE</th> <th>2010</th> <th>2014</th>\n",
       "        </tr>\n",
       "    </thead>\n",
       "    <tbody>\n",
       "        <tr>\n",
       "            <td>0   </td> <td>3,951,330</td> <td>3,948,350</td>\n",
       "        </tr>\n",
       "        <tr>\n",
       "            <td>1   </td> <td>3,957,888</td> <td>3,962,123</td>\n",
       "        </tr>\n",
       "        <tr>\n",
       "            <td>2   </td> <td>4,090,862</td> <td>3,957,772</td>\n",
       "        </tr>\n",
       "        <tr>\n",
       "            <td>3   </td> <td>4,111,920</td> <td>4,005,190</td>\n",
       "        </tr>\n",
       "        <tr>\n",
       "            <td>4   </td> <td>4,077,552</td> <td>4,003,448</td>\n",
       "        </tr>\n",
       "        <tr>\n",
       "            <td>5   </td> <td>4,064,653</td> <td>4,004,858</td>\n",
       "        </tr>\n",
       "        <tr>\n",
       "            <td>6   </td> <td>4,073,013</td> <td>4,134,352</td>\n",
       "        </tr>\n",
       "        <tr>\n",
       "            <td>7   </td> <td>4,043,047</td> <td>4,154,000</td>\n",
       "        </tr>\n",
       "        <tr>\n",
       "            <td>8   </td> <td>4,025,604</td> <td>4,119,524</td>\n",
       "        </tr>\n",
       "        <tr>\n",
       "            <td>9   </td> <td>4,125,415</td> <td>4,106,832</td>\n",
       "        </tr>\n",
       "    </tbody>\n",
       "</table>\n",
       "<p>... (91 rows omitted)</p>"
      ],
      "text/plain": [
       "AGE  | 2010      | 2014\n",
       "0    | 3,951,330 | 3,948,350\n",
       "1    | 3,957,888 | 3,962,123\n",
       "2    | 4,090,862 | 3,957,772\n",
       "3    | 4,111,920 | 4,005,190\n",
       "4    | 4,077,552 | 4,003,448\n",
       "5    | 4,064,653 | 4,004,858\n",
       "6    | 4,073,013 | 4,134,352\n",
       "7    | 4,043,047 | 4,154,000\n",
       "8    | 4,025,604 | 4,119,524\n",
       "9    | 4,125,415 | 4,106,832\n",
       "... (91 rows omitted)"
      ]
     },
     "execution_count": 32,
     "metadata": {},
     "output_type": "execute_result"
    }
   ],
   "source": [
    "everyone"
   ]
  },
  {
   "cell_type": "code",
   "execution_count": 33,
   "metadata": {},
   "outputs": [],
   "source": [
    "everyone = everyone.with_column(\n",
    "    'Change', everyone.column('2014') - everyone.column('2010')\n",
    ")"
   ]
  },
  {
   "cell_type": "code",
   "execution_count": 34,
   "metadata": {},
   "outputs": [
    {
     "data": {
      "text/html": [
       "<table border=\"1\" class=\"dataframe\">\n",
       "    <thead>\n",
       "        <tr>\n",
       "            <th>AGE</th> <th>2010</th> <th>2014</th> <th>Change</th>\n",
       "        </tr>\n",
       "    </thead>\n",
       "    <tbody>\n",
       "        <tr>\n",
       "            <td>67  </td> <td>2,693,709</td> <td>3,485,502</td> <td>791,793</td>\n",
       "        </tr>\n",
       "        <tr>\n",
       "            <td>64  </td> <td>2,706,063</td> <td>3,488,136</td> <td>782,073</td>\n",
       "        </tr>\n",
       "        <tr>\n",
       "            <td>66  </td> <td>2,621,346</td> <td>3,347,776</td> <td>726,430</td>\n",
       "        </tr>\n",
       "        <tr>\n",
       "            <td>65  </td> <td>2,678,532</td> <td>3,384,449</td> <td>705,917</td>\n",
       "        </tr>\n",
       "        <tr>\n",
       "            <td>71  </td> <td>1,953,614</td> <td>2,519,748</td> <td>566,134</td>\n",
       "        </tr>\n",
       "        <tr>\n",
       "            <td>34  </td> <td>3,822,188</td> <td>4,362,895</td> <td>540,707</td>\n",
       "        </tr>\n",
       "        <tr>\n",
       "            <td>23  </td> <td>4,217,221</td> <td>4,698,584</td> <td>481,363</td>\n",
       "        </tr>\n",
       "        <tr>\n",
       "            <td>59  </td> <td>3,694,276</td> <td>4,155,417</td> <td>461,141</td>\n",
       "        </tr>\n",
       "        <tr>\n",
       "            <td>24  </td> <td>4,243,589</td> <td>4,692,635</td> <td>449,046</td>\n",
       "        </tr>\n",
       "        <tr>\n",
       "            <td>70  </td> <td>2,062,581</td> <td>2,466,485</td> <td>403,904</td>\n",
       "        </tr>\n",
       "    </tbody>\n",
       "</table>\n",
       "<p>... (91 rows omitted)</p>"
      ],
      "text/plain": [
       "AGE  | 2010      | 2014      | Change\n",
       "67   | 2,693,709 | 3,485,502 | 791,793\n",
       "64   | 2,706,063 | 3,488,136 | 782,073\n",
       "66   | 2,621,346 | 3,347,776 | 726,430\n",
       "65   | 2,678,532 | 3,384,449 | 705,917\n",
       "71   | 1,953,614 | 2,519,748 | 566,134\n",
       "34   | 3,822,188 | 4,362,895 | 540,707\n",
       "23   | 4,217,221 | 4,698,584 | 481,363\n",
       "59   | 3,694,276 | 4,155,417 | 461,141\n",
       "24   | 4,243,589 | 4,692,635 | 449,046\n",
       "70   | 2,062,581 | 2,466,485 | 403,904\n",
       "... (91 rows omitted)"
      ]
     },
     "execution_count": 34,
     "metadata": {},
     "output_type": "execute_result"
    }
   ],
   "source": [
    "everyone.sort('Change', descending=True)"
   ]
  },
  {
   "cell_type": "code",
   "execution_count": 35,
   "metadata": {},
   "outputs": [
    {
     "data": {
      "text/html": [
       "<table border=\"1\" class=\"dataframe\">\n",
       "    <thead>\n",
       "        <tr>\n",
       "            <th>AGE</th> <th>2010</th> <th>2014</th> <th>Change</th> <th>Growth Rate</th>\n",
       "        </tr>\n",
       "    </thead>\n",
       "    <tbody>\n",
       "        <tr>\n",
       "            <td>100 </td> <td>54,409   </td> <td>72,197   </td> <td>17,788 </td> <td>0.0732777  </td>\n",
       "        </tr>\n",
       "        <tr>\n",
       "            <td>93  </td> <td>219,063  </td> <td>286,333  </td> <td>67,270 </td> <td>0.069241   </td>\n",
       "        </tr>\n",
       "        <tr>\n",
       "            <td>99  </td> <td>32,178   </td> <td>41,828   </td> <td>9,650  </td> <td>0.0677683  </td>\n",
       "        </tr>\n",
       "        <tr>\n",
       "            <td>67  </td> <td>2,693,709</td> <td>3,485,502</td> <td>791,793</td> <td>0.0665437  </td>\n",
       "        </tr>\n",
       "        <tr>\n",
       "            <td>71  </td> <td>1,953,614</td> <td>2,519,748</td> <td>566,134</td> <td>0.0656868  </td>\n",
       "        </tr>\n",
       "        <tr>\n",
       "            <td>64  </td> <td>2,706,063</td> <td>3,488,136</td> <td>782,073</td> <td>0.0655256  </td>\n",
       "        </tr>\n",
       "        <tr>\n",
       "            <td>94  </td> <td>170,775  </td> <td>218,655  </td> <td>47,880 </td> <td>0.0637358  </td>\n",
       "        </tr>\n",
       "        <tr>\n",
       "            <td>98  </td> <td>47,037   </td> <td>60,185   </td> <td>13,148 </td> <td>0.0635604  </td>\n",
       "        </tr>\n",
       "        <tr>\n",
       "            <td>66  </td> <td>2,621,346</td> <td>3,347,776</td> <td>726,430</td> <td>0.0630606  </td>\n",
       "        </tr>\n",
       "        <tr>\n",
       "            <td>65  </td> <td>2,678,532</td> <td>3,384,449</td> <td>705,917</td> <td>0.0602244  </td>\n",
       "        </tr>\n",
       "    </tbody>\n",
       "</table>\n",
       "<p>... (91 rows omitted)</p>"
      ],
      "text/plain": [
       "AGE  | 2010      | 2014      | Change  | Growth Rate\n",
       "100  | 54,409    | 72,197    | 17,788  | 0.0732777\n",
       "93   | 219,063   | 286,333   | 67,270  | 0.069241\n",
       "99   | 32,178    | 41,828    | 9,650   | 0.0677683\n",
       "67   | 2,693,709 | 3,485,502 | 791,793 | 0.0665437\n",
       "71   | 1,953,614 | 2,519,748 | 566,134 | 0.0656868\n",
       "64   | 2,706,063 | 3,488,136 | 782,073 | 0.0655256\n",
       "94   | 170,775   | 218,655   | 47,880  | 0.0637358\n",
       "98   | 47,037    | 60,185    | 13,148  | 0.0635604\n",
       "66   | 2,621,346 | 3,347,776 | 726,430 | 0.0630606\n",
       "65   | 2,678,532 | 3,384,449 | 705,917 | 0.0602244\n",
       "... (91 rows omitted)"
      ]
     },
     "execution_count": 35,
     "metadata": {},
     "output_type": "execute_result"
    }
   ],
   "source": [
    "everyone.with_column(\n",
    "    'Growth Rate', (everyone.column('2014')/everyone.column('2010')) ** (1/4) - 1\n",
    ").sort('Growth Rate', descending=True)"
   ]
  },
  {
   "cell_type": "markdown",
   "metadata": {},
   "source": [
    "## Scatter Plots ##"
   ]
  },
  {
   "cell_type": "code",
   "execution_count": 36,
   "metadata": {},
   "outputs": [],
   "source": [
    "actors = Table.read_table('actors.csv')"
   ]
  },
  {
   "cell_type": "code",
   "execution_count": 37,
   "metadata": {},
   "outputs": [
    {
     "data": {
      "text/html": [
       "<table border=\"1\" class=\"dataframe\">\n",
       "    <thead>\n",
       "        <tr>\n",
       "            <th>Actor</th> <th>Total Gross</th> <th>Number of Movies</th> <th>Average per Movie</th> <th>#1 Movie</th> <th>Gross</th>\n",
       "        </tr>\n",
       "    </thead>\n",
       "    <tbody>\n",
       "        <tr>\n",
       "            <td>Harrison Ford     </td> <td>4871.7     </td> <td>41              </td> <td>118.8            </td> <td>Star Wars: The Force Awakens</td> <td>936.7</td>\n",
       "        </tr>\n",
       "        <tr>\n",
       "            <td>Samuel L. Jackson </td> <td>4772.8     </td> <td>69              </td> <td>69.2             </td> <td>The Avengers                </td> <td>623.4</td>\n",
       "        </tr>\n",
       "        <tr>\n",
       "            <td>Morgan Freeman    </td> <td>4468.3     </td> <td>61              </td> <td>73.3             </td> <td>The Dark Knight             </td> <td>534.9</td>\n",
       "        </tr>\n",
       "        <tr>\n",
       "            <td>Tom Hanks         </td> <td>4340.8     </td> <td>44              </td> <td>98.7             </td> <td>Toy Story 3                 </td> <td>415  </td>\n",
       "        </tr>\n",
       "        <tr>\n",
       "            <td>Robert Downey, Jr.</td> <td>3947.3     </td> <td>53              </td> <td>74.5             </td> <td>The Avengers                </td> <td>623.4</td>\n",
       "        </tr>\n",
       "        <tr>\n",
       "            <td>Eddie Murphy      </td> <td>3810.4     </td> <td>38              </td> <td>100.3            </td> <td>Shrek 2                     </td> <td>441.2</td>\n",
       "        </tr>\n",
       "        <tr>\n",
       "            <td>Tom Cruise        </td> <td>3587.2     </td> <td>36              </td> <td>99.6             </td> <td>War of the Worlds           </td> <td>234.3</td>\n",
       "        </tr>\n",
       "        <tr>\n",
       "            <td>Johnny Depp       </td> <td>3368.6     </td> <td>45              </td> <td>74.9             </td> <td>Dead Man's Chest            </td> <td>423.3</td>\n",
       "        </tr>\n",
       "        <tr>\n",
       "            <td>Michael Caine     </td> <td>3351.5     </td> <td>58              </td> <td>57.8             </td> <td>The Dark Knight             </td> <td>534.9</td>\n",
       "        </tr>\n",
       "        <tr>\n",
       "            <td>Scarlett Johansson</td> <td>3341.2     </td> <td>37              </td> <td>90.3             </td> <td>The Avengers                </td> <td>623.4</td>\n",
       "        </tr>\n",
       "    </tbody>\n",
       "</table>\n",
       "<p>... (40 rows omitted)</p>"
      ],
      "text/plain": [
       "Actor              | Total Gross | Number of Movies | Average per Movie | #1 Movie                     | Gross\n",
       "Harrison Ford      | 4871.7      | 41               | 118.8             | Star Wars: The Force Awakens | 936.7\n",
       "Samuel L. Jackson  | 4772.8      | 69               | 69.2              | The Avengers                 | 623.4\n",
       "Morgan Freeman     | 4468.3      | 61               | 73.3              | The Dark Knight              | 534.9\n",
       "Tom Hanks          | 4340.8      | 44               | 98.7              | Toy Story 3                  | 415\n",
       "Robert Downey, Jr. | 3947.3      | 53               | 74.5              | The Avengers                 | 623.4\n",
       "Eddie Murphy       | 3810.4      | 38               | 100.3             | Shrek 2                      | 441.2\n",
       "Tom Cruise         | 3587.2      | 36               | 99.6              | War of the Worlds            | 234.3\n",
       "Johnny Depp        | 3368.6      | 45               | 74.9              | Dead Man's Chest             | 423.3\n",
       "Michael Caine      | 3351.5      | 58               | 57.8              | The Dark Knight              | 534.9\n",
       "Scarlett Johansson | 3341.2      | 37               | 90.3              | The Avengers                 | 623.4\n",
       "... (40 rows omitted)"
      ]
     },
     "execution_count": 37,
     "metadata": {},
     "output_type": "execute_result"
    }
   ],
   "source": [
    "actors"
   ]
  },
  {
   "cell_type": "code",
   "execution_count": 38,
   "metadata": {},
   "outputs": [
    {
     "data": {
      "image/png": "[encoded data removed]",
      "text/plain": [
       "<matplotlib.figure.Figure at 0x7fb077480048>"
      ]
     },
     "metadata": {},
     "output_type": "display_data"
    }
   ],
   "source": [
    "actors.scatter('Number of Movies', 'Total Gross')"
   ]
  },
  {
   "cell_type": "code",
   "execution_count": 39,
   "metadata": {},
   "outputs": [
    {
     "data": {
      "image/png": "[encoded data removed]",
      "text/plain": [
       "<matplotlib.figure.Figure at 0x7fb092dce7b8>"
      ]
     },
     "metadata": {},
     "output_type": "display_data"
    }
   ],
   "source": [
    "actors.scatter('Number of Movies', 'Average per Movie')"
   ]
  },
  {
   "cell_type": "code",
   "execution_count": 40,
   "metadata": {},
   "outputs": [
    {
     "data": {
      "text/html": [
       "<table border=\"1\" class=\"dataframe\">\n",
       "    <thead>\n",
       "        <tr>\n",
       "            <th>Actor</th> <th>Total Gross</th> <th>Number of Movies</th> <th>Average per Movie</th> <th>#1 Movie</th> <th>Gross</th>\n",
       "        </tr>\n",
       "    </thead>\n",
       "    <tbody>\n",
       "        <tr>\n",
       "            <td>Anthony Daniels</td> <td>3162.9     </td> <td>7               </td> <td>451.8            </td> <td>Star Wars: The Force Awakens</td> <td>936.7</td>\n",
       "        </tr>\n",
       "    </tbody>\n",
       "</table>"
      ],
      "text/plain": [
       "Actor           | Total Gross | Number of Movies | Average per Movie | #1 Movie                     | Gross\n",
       "Anthony Daniels | 3162.9      | 7                | 451.8             | Star Wars: The Force Awakens | 936.7"
      ]
     },
     "execution_count": 40,
     "metadata": {},
     "output_type": "execute_result"
    }
   ],
   "source": [
    "actors.where('Average per Movie', are.above(400))"
   ]
  },
  {
   "cell_type": "code",
   "execution_count": null,
   "metadata": {},
   "outputs": [],
   "source": []
  }
 ],
 "metadata": {
  "anaconda-cloud": {},
  "kernelspec": {
   "display_name": "Python 3",
   "language": "python",
   "name": "python3"
  },
  "language_info": {
   "codemirror_mode": {
    "name": "ipython",
    "version": 3
   },
   "file_extension": ".py",
   "mimetype": "text/x-python",
   "name": "python",
   "nbconvert_exporter": "python",
   "pygments_lexer": "ipython3",
   "version": "3.6.6"
  }
 },
 "nbformat": 4,
 "nbformat_minor": 1
}
